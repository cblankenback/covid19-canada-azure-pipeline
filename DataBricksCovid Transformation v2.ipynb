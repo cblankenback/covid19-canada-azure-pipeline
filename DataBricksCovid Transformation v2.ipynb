{
 "cells": [
  {
   "cell_type": "markdown",
   "metadata": {
    "application/vnd.databricks.v1+cell": {
     "cellMetadata": {
      "byteLimit": 2048000,
      "rowLimit": 10000
     },
     "inputWidgets": {},
     "nuid": "d3ec29c4-5f4a-461c-a223-f670d138289e",
     "showTitle": false,
     "tableResultSettingsMap": {},
     "title": ""
    }
   },
   "source": [
    "## Step 1: Load the Data"
   ]
  },
  {
   "cell_type": "code",
   "execution_count": 0,
   "metadata": {
    "application/vnd.databricks.v1+cell": {
     "cellMetadata": {
      "byteLimit": 2048000,
      "rowLimit": 10000
     },
     "inputWidgets": {},
     "nuid": "eda1bac8-2ab9-4d8b-a660-fc08764e51f5",
     "showTitle": false,
     "tableResultSettingsMap": {},
     "title": ""
    }
   },
   "outputs": [],
   "source": [
    "# (EDIT the four lines below if needed)\n",
    "storage_account = \"covidprojectdata\"\n",
    "tenant_id       = \"4e8362c7-dae8-414e-91a1-198b637b91e5\"\n",
    "client_id       = \"d274dbd4-c929-45ce-b9e3-762cee2e5642\"\n",
    "client_secret   = dbutils.secrets.get(scope=\"new-scope\",key=\"DatabricksSPSecret\")\n",
    "\n",
    "# 1) Set up OAuth for ABFS\n",
    "spark.conf.set(\n",
    "    f\"fs.azure.account.auth.type.{storage_account}.dfs.core.windows.net\",\n",
    "    \"OAuth\"\n",
    ")\n",
    "spark.conf.set(\n",
    "    f\"fs.azure.account.oauth.provider.type.{storage_account}.dfs.core.windows.net\",\n",
    "    \"org.apache.hadoop.fs.azurebfs.oauth2.ClientCredsTokenProvider\"\n",
    ")\n",
    "spark.conf.set(\n",
    "    f\"fs.azure.account.oauth2.client.id.{storage_account}.dfs.core.windows.net\",\n",
    "    client_id\n",
    ")\n",
    "spark.conf.set(\n",
    "    f\"fs.azure.account.oauth2.client.secret.{storage_account}.dfs.core.windows.net\",\n",
    "    client_secret\n",
    ")\n",
    "spark.conf.set(\n",
    "    f\"fs.azure.account.oauth2.client.endpoint.{storage_account}.dfs.core.windows.net\",\n",
    "    f\"https://login.microsoftonline.com/{tenant_id}/oauth2/token\"\n",
    ")\n",
    "\n",
    "\n"
   ]
  },
  {
   "cell_type": "code",
   "execution_count": 0,
   "metadata": {
    "application/vnd.databricks.v1+cell": {
     "cellMetadata": {
      "byteLimit": 2048000,
      "rowLimit": 10000
     },
     "inputWidgets": {},
     "nuid": "87c8ef2c-0783-41bd-b703-935683228ca2",
     "showTitle": false,
     "tableResultSettingsMap": {},
     "title": ""
    }
   },
   "outputs": [
    {
     "output_type": "display_data",
     "data": {
      "text/html": [
       "<style scoped>\n",
       "  .table-result-container {\n",
       "    max-height: 300px;\n",
       "    overflow: auto;\n",
       "  }\n",
       "  table, th, td {\n",
       "    border: 1px solid black;\n",
       "    border-collapse: collapse;\n",
       "  }\n",
       "  th, td {\n",
       "    padding: 5px;\n",
       "  }\n",
       "  th {\n",
       "    text-align: left;\n",
       "  }\n",
       "</style><div class='table-result-container'><table class='table-result'><thead style='background-color: white'><tr><th>path</th><th>name</th><th>size</th><th>modificationTime</th></tr></thead><tbody><tr><td>abfss://covid-project-data@covidprojectdata.dfs.core.windows.net/raw-data/</td><td>raw-data/</td><td>0</td><td>1748571220000</td></tr><tr><td>abfss://covid-project-data@covidprojectdata.dfs.core.windows.net/transformed-data/</td><td>transformed-data/</td><td>0</td><td>1748571246000</td></tr></tbody></table></div>"
      ]
     },
     "metadata": {
      "application/vnd.databricks.v1+output": {
       "addedWidgets": {},
       "aggData": [],
       "aggError": "",
       "aggOverflow": false,
       "aggSchema": [],
       "aggSeriesLimitReached": false,
       "aggType": "",
       "arguments": {},
       "columnCustomDisplayInfos": {},
       "data": [
        [
         "abfss://covid-project-data@covidprojectdata.dfs.core.windows.net/raw-data/",
         "raw-data/",
         0,
         1748571220000
        ],
        [
         "abfss://covid-project-data@covidprojectdata.dfs.core.windows.net/transformed-data/",
         "transformed-data/",
         0,
         1748571246000
        ]
       ],
       "datasetInfos": [],
       "dbfsResultPath": null,
       "isJsonSchema": true,
       "metadata": {},
       "overflow": false,
       "plotOptions": {
        "customPlotOptions": {},
        "displayType": "table",
        "pivotAggregation": null,
        "pivotColumns": null,
        "xColumns": null,
        "yColumns": null
       },
       "removedWidgets": [],
       "schema": [
        {
         "metadata": "{}",
         "name": "path",
         "type": "\"string\""
        },
        {
         "metadata": "{}",
         "name": "name",
         "type": "\"string\""
        },
        {
         "metadata": "{}",
         "name": "size",
         "type": "\"long\""
        },
        {
         "metadata": "{}",
         "name": "modificationTime",
         "type": "\"long\""
        }
       ],
       "type": "table"
      }
     },
     "output_type": "display_data"
    }
   ],
   "source": [
    "display(dbutils.fs.ls(f\"abfss://covid-project-data@{storage_account}.dfs.core.windows.net/\"))\n"
   ]
  },
  {
   "cell_type": "code",
   "execution_count": 0,
   "metadata": {
    "application/vnd.databricks.v1+cell": {
     "cellMetadata": {
      "byteLimit": 2048000,
      "rowLimit": 10000
     },
     "inputWidgets": {},
     "nuid": "f2afd656-d8f1-4ce2-bbcf-ec7270b75721",
     "showTitle": false,
     "tableResultSettingsMap": {},
     "title": ""
    }
   },
   "outputs": [
    {
     "output_type": "display_data",
     "data": {
      "text/html": [
       "<style scoped>\n",
       "  .table-result-container {\n",
       "    max-height: 300px;\n",
       "    overflow: auto;\n",
       "  }\n",
       "  table, th, td {\n",
       "    border: 1px solid black;\n",
       "    border-collapse: collapse;\n",
       "  }\n",
       "  th, td {\n",
       "    padding: 5px;\n",
       "  }\n",
       "  th {\n",
       "    text-align: left;\n",
       "  }\n",
       "</style><div class='table-result-container'><table class='table-result'><thead style='background-color: white'><tr><th>pruid</th><th>prname</th><th>prnameFR</th><th>date</th><th>reporting_week</th><th>reporting_year</th><th>update</th><th>totalcases</th><th>numtotal_last7</th><th>ratecases_total</th><th>numdeaths</th><th>numdeaths_last7</th><th>ratedeaths</th><th>ratecases_last7</th><th>ratedeaths_last7</th><th>numtotal_last14</th><th>numdeaths_last14</th><th>ratetotal_last14</th><th>ratedeaths_last14</th><th>avgcases_last7</th><th>avgincidence_last7</th><th>avgdeaths_last7</th><th>avgratedeaths_last7</th></tr></thead><tbody><tr><td>59</td><td>British Columbia</td><td>Colombie-Britannique</td><td>2020-02-08</td><td>6</td><td>2020</td><td>1.0</td><td>4</td><td>3</td><td>0.07</td><td>0</td><td>0.0</td><td>0.0</td><td>0.05</td><td>0.0</td><td>4</td><td>0.0</td><td>0.07</td><td>0.0</td><td>0.43</td><td>0.01</td><td>0.0</td><td>0.0</td></tr><tr><td>48</td><td>Alberta</td><td>Alberta</td><td>2020-02-08</td><td>6</td><td>2020</td><td>1.0</td><td>0</td><td>0</td><td>0</td><td>0</td><td>0.0</td><td>0.0</td><td>0</td><td>0.0</td><td>0</td><td>0.0</td><td>0</td><td>0.0</td><td>0</td><td>0</td><td>0.0</td><td>0.0</td></tr><tr><td>47</td><td>Saskatchewan</td><td>Saskatchewan</td><td>2020-02-08</td><td>6</td><td>2020</td><td>1.0</td><td>0</td><td>0</td><td>0</td><td>0</td><td>0.0</td><td>0.0</td><td>0</td><td>0.0</td><td>0</td><td>0.0</td><td>0</td><td>0.0</td><td>0</td><td>0</td><td>0.0</td><td>0.0</td></tr><tr><td>46</td><td>Manitoba</td><td>Manitoba</td><td>2020-02-08</td><td>6</td><td>2020</td><td>1.0</td><td>0</td><td>0</td><td>0</td><td>0</td><td>0.0</td><td>0.0</td><td>0</td><td>0.0</td><td>0</td><td>0.0</td><td>0</td><td>0.0</td><td>0</td><td>0</td><td>0.0</td><td>0.0</td></tr><tr><td>35</td><td>Ontario</td><td>Ontario</td><td>2020-02-08</td><td>6</td><td>2020</td><td>1.0</td><td>4</td><td>1</td><td>0.03</td><td>0</td><td>0.0</td><td>0.0</td><td>0.01</td><td>0.0</td><td>1</td><td>0.0</td><td>0.01</td><td>0.0</td><td>0.14</td><td>0</td><td>0.0</td><td>0.0</td></tr><tr><td>24</td><td>Quebec</td><td>Québec</td><td>2020-02-08</td><td>6</td><td>2020</td><td>1.0</td><td>0</td><td>0</td><td>0</td><td>0</td><td>0.0</td><td>0.0</td><td>0</td><td>0.0</td><td>0</td><td>0.0</td><td>0</td><td>0.0</td><td>0</td><td>0</td><td>0.0</td><td>0.0</td></tr><tr><td>10</td><td>Newfoundland and Labrador</td><td>Terre-Neuve-et-Labrador</td><td>2020-02-08</td><td>6</td><td>2020</td><td>1.0</td><td>0</td><td>0</td><td>0</td><td>0</td><td>0.0</td><td>0.0</td><td>0</td><td>0.0</td><td>0</td><td>0.0</td><td>0</td><td>0.0</td><td>0</td><td>0</td><td>0.0</td><td>0.0</td></tr><tr><td>13</td><td>New Brunswick</td><td>Nouveau-Brunswick</td><td>2020-02-08</td><td>6</td><td>2020</td><td>1.0</td><td>0</td><td>0</td><td>0</td><td>0</td><td>0.0</td><td>0.0</td><td>0</td><td>0.0</td><td>0</td><td>0.0</td><td>0</td><td>0.0</td><td>0</td><td>0</td><td>0.0</td><td>0.0</td></tr><tr><td>12</td><td>Nova Scotia</td><td>Nouvelle-Écosse</td><td>2020-02-08</td><td>6</td><td>2020</td><td>1.0</td><td>0</td><td>0</td><td>0</td><td>0</td><td>0.0</td><td>0.0</td><td>0</td><td>0.0</td><td>0</td><td>0.0</td><td>0</td><td>0.0</td><td>0</td><td>0</td><td>0.0</td><td>0.0</td></tr><tr><td>11</td><td>Prince Edward Island</td><td>Île-du-Prince-Édouard</td><td>2020-02-08</td><td>6</td><td>2020</td><td>1.0</td><td>0</td><td>0</td><td>0</td><td>0</td><td>0.0</td><td>0.0</td><td>0</td><td>0.0</td><td>0</td><td>0.0</td><td>0</td><td>0.0</td><td>0</td><td>0</td><td>0.0</td><td>0.0</td></tr></tbody></table></div>"
      ]
     },
     "metadata": {
      "application/vnd.databricks.v1+output": {
       "addedWidgets": {},
       "aggData": [],
       "aggError": "",
       "aggOverflow": false,
       "aggSchema": [],
       "aggSeriesLimitReached": false,
       "aggType": "",
       "arguments": {},
       "columnCustomDisplayInfos": {},
       "data": [
        [
         59,
         "British Columbia",
         "Colombie-Britannique",
         "2020-02-08",
         6,
         2020,
         1.0,
         "4",
         "3",
         "0.07",
         0,
         0.0,
         0.0,
         "0.05",
         0.0,
         "4",
         0.0,
         "0.07",
         0.0,
         "0.43",
         "0.01",
         0.0,
         0.0
        ],
        [
         48,
         "Alberta",
         "Alberta",
         "2020-02-08",
         6,
         2020,
         1.0,
         "0",
         "0",
         "0",
         0,
         0.0,
         0.0,
         "0",
         0.0,
         "0",
         0.0,
         "0",
         0.0,
         "0",
         "0",
         0.0,
         0.0
        ],
        [
         47,
         "Saskatchewan",
         "Saskatchewan",
         "2020-02-08",
         6,
         2020,
         1.0,
         "0",
         "0",
         "0",
         0,
         0.0,
         0.0,
         "0",
         0.0,
         "0",
         0.0,
         "0",
         0.0,
         "0",
         "0",
         0.0,
         0.0
        ],
        [
         46,
         "Manitoba",
         "Manitoba",
         "2020-02-08",
         6,
         2020,
         1.0,
         "0",
         "0",
         "0",
         0,
         0.0,
         0.0,
         "0",
         0.0,
         "0",
         0.0,
         "0",
         0.0,
         "0",
         "0",
         0.0,
         0.0
        ],
        [
         35,
         "Ontario",
         "Ontario",
         "2020-02-08",
         6,
         2020,
         1.0,
         "4",
         "1",
         "0.03",
         0,
         0.0,
         0.0,
         "0.01",
         0.0,
         "1",
         0.0,
         "0.01",
         0.0,
         "0.14",
         "0",
         0.0,
         0.0
        ],
        [
         24,
         "Quebec",
         "Québec",
         "2020-02-08",
         6,
         2020,
         1.0,
         "0",
         "0",
         "0",
         0,
         0.0,
         0.0,
         "0",
         0.0,
         "0",
         0.0,
         "0",
         0.0,
         "0",
         "0",
         0.0,
         0.0
        ],
        [
         10,
         "Newfoundland and Labrador",
         "Terre-Neuve-et-Labrador",
         "2020-02-08",
         6,
         2020,
         1.0,
         "0",
         "0",
         "0",
         0,
         0.0,
         0.0,
         "0",
         0.0,
         "0",
         0.0,
         "0",
         0.0,
         "0",
         "0",
         0.0,
         0.0
        ],
        [
         13,
         "New Brunswick",
         "Nouveau-Brunswick",
         "2020-02-08",
         6,
         2020,
         1.0,
         "0",
         "0",
         "0",
         0,
         0.0,
         0.0,
         "0",
         0.0,
         "0",
         0.0,
         "0",
         0.0,
         "0",
         "0",
         0.0,
         0.0
        ],
        [
         12,
         "Nova Scotia",
         "Nouvelle-Écosse",
         "2020-02-08",
         6,
         2020,
         1.0,
         "0",
         "0",
         "0",
         0,
         0.0,
         0.0,
         "0",
         0.0,
         "0",
         0.0,
         "0",
         0.0,
         "0",
         "0",
         0.0,
         0.0
        ],
        [
         11,
         "Prince Edward Island",
         "Île-du-Prince-Édouard",
         "2020-02-08",
         6,
         2020,
         1.0,
         "0",
         "0",
         "0",
         0,
         0.0,
         0.0,
         "0",
         0.0,
         "0",
         0.0,
         "0",
         0.0,
         "0",
         "0",
         0.0,
         0.0
        ]
       ],
       "datasetInfos": [],
       "dbfsResultPath": null,
       "isJsonSchema": true,
       "metadata": {},
       "overflow": false,
       "plotOptions": {
        "customPlotOptions": {},
        "displayType": "table",
        "pivotAggregation": null,
        "pivotColumns": null,
        "xColumns": null,
        "yColumns": null
       },
       "removedWidgets": [],
       "schema": [
        {
         "metadata": "{}",
         "name": "pruid",
         "type": "\"integer\""
        },
        {
         "metadata": "{}",
         "name": "prname",
         "type": "\"string\""
        },
        {
         "metadata": "{}",
         "name": "prnameFR",
         "type": "\"string\""
        },
        {
         "metadata": "{\"__detected_date_formats\":\"yyyy-M-d\"}",
         "name": "date",
         "type": "\"date\""
        },
        {
         "metadata": "{}",
         "name": "reporting_week",
         "type": "\"integer\""
        },
        {
         "metadata": "{}",
         "name": "reporting_year",
         "type": "\"integer\""
        },
        {
         "metadata": "{}",
         "name": "update",
         "type": "\"double\""
        },
        {
         "metadata": "{}",
         "name": "totalcases",
         "type": "\"string\""
        },
        {
         "metadata": "{}",
         "name": "numtotal_last7",
         "type": "\"string\""
        },
        {
         "metadata": "{}",
         "name": "ratecases_total",
         "type": "\"string\""
        },
        {
         "metadata": "{}",
         "name": "numdeaths",
         "type": "\"integer\""
        },
        {
         "metadata": "{}",
         "name": "numdeaths_last7",
         "type": "\"double\""
        },
        {
         "metadata": "{}",
         "name": "ratedeaths",
         "type": "\"double\""
        },
        {
         "metadata": "{}",
         "name": "ratecases_last7",
         "type": "\"string\""
        },
        {
         "metadata": "{}",
         "name": "ratedeaths_last7",
         "type": "\"double\""
        },
        {
         "metadata": "{}",
         "name": "numtotal_last14",
         "type": "\"string\""
        },
        {
         "metadata": "{}",
         "name": "numdeaths_last14",
         "type": "\"double\""
        },
        {
         "metadata": "{}",
         "name": "ratetotal_last14",
         "type": "\"string\""
        },
        {
         "metadata": "{}",
         "name": "ratedeaths_last14",
         "type": "\"double\""
        },
        {
         "metadata": "{}",
         "name": "avgcases_last7",
         "type": "\"string\""
        },
        {
         "metadata": "{}",
         "name": "avgincidence_last7",
         "type": "\"string\""
        },
        {
         "metadata": "{}",
         "name": "avgdeaths_last7",
         "type": "\"double\""
        },
        {
         "metadata": "{}",
         "name": "avgratedeaths_last7",
         "type": "\"double\""
        }
       ],
       "type": "table"
      }
     },
     "output_type": "display_data"
    }
   ],
   "source": [
    "death = spark.read.csv(\n",
    "  f\"abfss://covid-project-data@covidprojectdata.dfs.core.windows.net/raw-data/casesdeaths.csv\",\n",
    "  header=True,\n",
    "  inferSchema=True\n",
    ")\n",
    "display(death.limit(10))"
   ]
  },
  {
   "cell_type": "code",
   "execution_count": 0,
   "metadata": {
    "application/vnd.databricks.v1+cell": {
     "cellMetadata": {
      "byteLimit": 2048000,
      "rowLimit": 10000
     },
     "inputWidgets": {},
     "nuid": "603eef20-e1e5-44f4-84b2-fbbf58cef15f",
     "showTitle": false,
     "tableResultSettingsMap": {},
     "title": ""
    }
   },
   "outputs": [
    {
     "output_type": "display_data",
     "data": {
      "text/html": [
       "<style scoped>\n",
       "  .table-result-container {\n",
       "    max-height: 300px;\n",
       "    overflow: auto;\n",
       "  }\n",
       "  table, th, td {\n",
       "    border: 1px solid black;\n",
       "    border-collapse: collapse;\n",
       "  }\n",
       "  th, td {\n",
       "    padding: 5px;\n",
       "  }\n",
       "  th {\n",
       "    text-align: left;\n",
       "  }\n",
       "</style><div class='table-result-container'><table class='table-result'><thead style='background-color: white'><tr><th>pruid</th><th>prename</th><th>report_date</th><th>numtotal_all_administered</th><th>as_of_date</th><th>numtotal_dose1_administered</th><th>numtotal_dose2_administered</th><th>numtotal_dose3_administered</th><th>numtotal_dose4_administered</th><th>updated</th></tr></thead><tbody><tr><td>24</td><td>Quebec</td><td>2021-01-19</td><td>164053</td><td>2021-01-18</td><td>null</td><td>null</td><td>null</td><td>null</td><td>1</td></tr><tr><td>35</td><td>Ontario</td><td>2021-01-19</td><td>262992</td><td>2021-01-18</td><td>246799</td><td>16193</td><td>0</td><td>0</td><td>1</td></tr><tr><td>59</td><td>British Columbia</td><td>2021-01-19</td><td>92369</td><td>2021-01-19</td><td>null</td><td>null</td><td>null</td><td>null</td><td>1</td></tr><tr><td>48</td><td>Alberta</td><td>2021-01-19</td><td>92315</td><td>2021-01-18</td><td>null</td><td>null</td><td>null</td><td>null</td><td>1</td></tr><tr><td>47</td><td>Saskatchewan</td><td>2021-01-19</td><td>24575</td><td>2021-01-18</td><td>null</td><td>null</td><td>null</td><td>null</td><td>1</td></tr><tr><td>12</td><td>Nova Scotia</td><td>2021-01-19</td><td>8520</td><td>2021-01-19</td><td>null</td><td>null</td><td>null</td><td>null</td><td>1</td></tr><tr><td>46</td><td>Manitoba</td><td>2021-01-19</td><td>17751</td><td>2021-01-18</td><td>null</td><td>null</td><td>null</td><td>null</td><td>1</td></tr><tr><td>13</td><td>New Brunswick</td><td>2021-01-19</td><td>6241</td><td>2021-01-09</td><td>6241</td><td>0</td><td>0</td><td>null</td><td>1</td></tr><tr><td>10</td><td>Newfoundland and Labrador</td><td>2021-01-19</td><td>5291</td><td>2021-01-13</td><td>null</td><td>null</td><td>null</td><td>null</td><td>1</td></tr><tr><td>11</td><td>Prince Edward Island</td><td>2021-01-19</td><td>5680</td><td>2021-01-16</td><td>4293</td><td>1387</td><td>null</td><td>null</td><td>1</td></tr></tbody></table></div>"
      ]
     },
     "metadata": {
      "application/vnd.databricks.v1+output": {
       "addedWidgets": {},
       "aggData": [],
       "aggError": "",
       "aggOverflow": false,
       "aggSchema": [],
       "aggSeriesLimitReached": false,
       "aggType": "",
       "arguments": {},
       "columnCustomDisplayInfos": {},
       "data": [
        [
         24,
         "Quebec",
         "2021-01-19",
         164053,
         "2021-01-18",
         null,
         null,
         null,
         null,
         1
        ],
        [
         35,
         "Ontario",
         "2021-01-19",
         262992,
         "2021-01-18",
         "246799",
         "16193",
         "0",
         0,
         1
        ],
        [
         59,
         "British Columbia",
         "2021-01-19",
         92369,
         "2021-01-19",
         null,
         null,
         null,
         null,
         1
        ],
        [
         48,
         "Alberta",
         "2021-01-19",
         92315,
         "2021-01-18",
         null,
         null,
         null,
         null,
         1
        ],
        [
         47,
         "Saskatchewan",
         "2021-01-19",
         24575,
         "2021-01-18",
         null,
         null,
         null,
         null,
         1
        ],
        [
         12,
         "Nova Scotia",
         "2021-01-19",
         8520,
         "2021-01-19",
         null,
         null,
         null,
         null,
         1
        ],
        [
         46,
         "Manitoba",
         "2021-01-19",
         17751,
         "2021-01-18",
         null,
         null,
         null,
         null,
         1
        ],
        [
         13,
         "New Brunswick",
         "2021-01-19",
         6241,
         "2021-01-09",
         "6241",
         "0",
         "0",
         null,
         1
        ],
        [
         10,
         "Newfoundland and Labrador",
         "2021-01-19",
         5291,
         "2021-01-13",
         null,
         null,
         null,
         null,
         1
        ],
        [
         11,
         "Prince Edward Island",
         "2021-01-19",
         5680,
         "2021-01-16",
         "4293",
         "1387",
         null,
         null,
         1
        ]
       ],
       "datasetInfos": [],
       "dbfsResultPath": null,
       "isJsonSchema": true,
       "metadata": {},
       "overflow": false,
       "plotOptions": {
        "customPlotOptions": {},
        "displayType": "table",
        "pivotAggregation": null,
        "pivotColumns": null,
        "xColumns": null,
        "yColumns": null
       },
       "removedWidgets": [],
       "schema": [
        {
         "metadata": "{}",
         "name": "pruid",
         "type": "\"integer\""
        },
        {
         "metadata": "{}",
         "name": "prename",
         "type": "\"string\""
        },
        {
         "metadata": "{\"__detected_date_formats\":\"yyyy-M-d\"}",
         "name": "report_date",
         "type": "\"date\""
        },
        {
         "metadata": "{}",
         "name": "numtotal_all_administered",
         "type": "\"integer\""
        },
        {
         "metadata": "{\"__detected_date_formats\":\"yyyy-M-d\"}",
         "name": "as_of_date",
         "type": "\"date\""
        },
        {
         "metadata": "{}",
         "name": "numtotal_dose1_administered",
         "type": "\"string\""
        },
        {
         "metadata": "{}",
         "name": "numtotal_dose2_administered",
         "type": "\"string\""
        },
        {
         "metadata": "{}",
         "name": "numtotal_dose3_administered",
         "type": "\"string\""
        },
        {
         "metadata": "{}",
         "name": "numtotal_dose4_administered",
         "type": "\"integer\""
        },
        {
         "metadata": "{}",
         "name": "updated",
         "type": "\"integer\""
        }
       ],
       "type": "table"
      }
     },
     "output_type": "display_data"
    }
   ],
   "source": [
    "vaccination = spark.read.csv(\n",
    "  f\"abfss://covid-project-data@covidprojectdata.dfs.core.windows.net/raw-data/vaccination.csv\",\n",
    "  header=True,\n",
    "  inferSchema=True\n",
    ")\n",
    "display(vaccination.limit(10))"
   ]
  },
  {
   "cell_type": "code",
   "execution_count": 0,
   "metadata": {
    "application/vnd.databricks.v1+cell": {
     "cellMetadata": {
      "byteLimit": 2048000,
      "rowLimit": 10000
     },
     "inputWidgets": {},
     "nuid": "6490796e-e5c9-4ffe-b555-06de630b5fe0",
     "showTitle": false,
     "tableResultSettingsMap": {},
     "title": ""
    }
   },
   "outputs": [
    {
     "output_type": "display_data",
     "data": {
      "text/html": [
       "<style scoped>\n",
       "  .table-result-container {\n",
       "    max-height: 300px;\n",
       "    overflow: auto;\n",
       "  }\n",
       "  table, th, td {\n",
       "    border: 1px solid black;\n",
       "    border-collapse: collapse;\n",
       "  }\n",
       "  th, td {\n",
       "    padding: 5px;\n",
       "  }\n",
       "  th {\n",
       "    text-align: left;\n",
       "  }\n",
       "</style><div class='table-result-container'><table class='table-result'><thead style='background-color: white'><tr><th>REF_DATE</th><th>GEO</th><th>DGUID</th><th>UOM</th><th>UOM_ID</th><th>SCALAR_FACTOR</th><th>SCALAR_ID</th><th>VECTOR</th><th>COORDINATE</th><th>VALUE</th><th>STATUS</th><th>SYMBOL</th><th>TERMINATED</th><th>DECIMALS</th></tr></thead><tbody><tr><td>2018-01-01</td><td>Canada</td><td>2016A000011124</td><td>Persons</td><td>249</td><td>units</td><td>0</td><td>v1</td><td>1</td><td>36801579</td><td>null</td><td>null</td><td>null</td><td>0</td></tr><tr><td>2018-04-01</td><td>Canada</td><td>2016A000011124</td><td>Persons</td><td>249</td><td>units</td><td>0</td><td>v1</td><td>1</td><td>36903671</td><td>null</td><td>null</td><td>null</td><td>0</td></tr><tr><td>2018-07-01</td><td>Canada</td><td>2016A000011124</td><td>Persons</td><td>249</td><td>units</td><td>0</td><td>v1</td><td>1</td><td>37072620</td><td>null</td><td>null</td><td>null</td><td>0</td></tr><tr><td>2018-10-01</td><td>Canada</td><td>2016A000011124</td><td>Persons</td><td>249</td><td>units</td><td>0</td><td>v1</td><td>1</td><td>37259485</td><td>null</td><td>null</td><td>null</td><td>0</td></tr><tr><td>2019-01-01</td><td>Canada</td><td>2016A000011124</td><td>Persons</td><td>249</td><td>units</td><td>0</td><td>v1</td><td>1</td><td>37336956</td><td>null</td><td>null</td><td>null</td><td>0</td></tr><tr><td>2019-04-01</td><td>Canada</td><td>2016A000011124</td><td>Persons</td><td>249</td><td>units</td><td>0</td><td>v1</td><td>1</td><td>37437243</td><td>null</td><td>null</td><td>null</td><td>0</td></tr><tr><td>2019-07-01</td><td>Canada</td><td>2016A000011124</td><td>Persons</td><td>249</td><td>units</td><td>0</td><td>v1</td><td>1</td><td>37618495</td><td>null</td><td>null</td><td>null</td><td>0</td></tr><tr><td>2019-10-01</td><td>Canada</td><td>2016A000011124</td><td>Persons</td><td>249</td><td>units</td><td>0</td><td>v1</td><td>1</td><td>37828162</td><td>null</td><td>null</td><td>null</td><td>0</td></tr><tr><td>2020-01-01</td><td>Canada</td><td>2016A000011124</td><td>Persons</td><td>249</td><td>units</td><td>0</td><td>v1</td><td>1</td><td>37928208</td><td>null</td><td>null</td><td>null</td><td>0</td></tr><tr><td>2020-04-01</td><td>Canada</td><td>2016A000011124</td><td>Persons</td><td>249</td><td>units</td><td>0</td><td>v1</td><td>1</td><td>38006941</td><td>null</td><td>null</td><td>null</td><td>0</td></tr></tbody></table></div>"
      ]
     },
     "metadata": {
      "application/vnd.databricks.v1+output": {
       "addedWidgets": {},
       "aggData": [],
       "aggError": "",
       "aggOverflow": false,
       "aggSchema": [],
       "aggSeriesLimitReached": false,
       "aggType": "",
       "arguments": {},
       "columnCustomDisplayInfos": {},
       "data": [
        [
         "2018-01-01",
         "Canada",
         "2016A000011124",
         "Persons",
         249,
         "units",
         0,
         "v1",
         1,
         36801579,
         null,
         null,
         null,
         0
        ],
        [
         "2018-04-01",
         "Canada",
         "2016A000011124",
         "Persons",
         249,
         "units",
         0,
         "v1",
         1,
         36903671,
         null,
         null,
         null,
         0
        ],
        [
         "2018-07-01",
         "Canada",
         "2016A000011124",
         "Persons",
         249,
         "units",
         0,
         "v1",
         1,
         37072620,
         null,
         null,
         null,
         0
        ],
        [
         "2018-10-01",
         "Canada",
         "2016A000011124",
         "Persons",
         249,
         "units",
         0,
         "v1",
         1,
         37259485,
         null,
         null,
         null,
         0
        ],
        [
         "2019-01-01",
         "Canada",
         "2016A000011124",
         "Persons",
         249,
         "units",
         0,
         "v1",
         1,
         37336956,
         null,
         null,
         null,
         0
        ],
        [
         "2019-04-01",
         "Canada",
         "2016A000011124",
         "Persons",
         249,
         "units",
         0,
         "v1",
         1,
         37437243,
         null,
         null,
         null,
         0
        ],
        [
         "2019-07-01",
         "Canada",
         "2016A000011124",
         "Persons",
         249,
         "units",
         0,
         "v1",
         1,
         37618495,
         null,
         null,
         null,
         0
        ],
        [
         "2019-10-01",
         "Canada",
         "2016A000011124",
         "Persons",
         249,
         "units",
         0,
         "v1",
         1,
         37828162,
         null,
         null,
         null,
         0
        ],
        [
         "2020-01-01",
         "Canada",
         "2016A000011124",
         "Persons",
         249,
         "units",
         0,
         "v1",
         1,
         37928208,
         null,
         null,
         null,
         0
        ],
        [
         "2020-04-01",
         "Canada",
         "2016A000011124",
         "Persons",
         249,
         "units",
         0,
         "v1",
         1,
         38006941,
         null,
         null,
         null,
         0
        ]
       ],
       "datasetInfos": [],
       "dbfsResultPath": null,
       "isJsonSchema": true,
       "metadata": {},
       "overflow": false,
       "plotOptions": {
        "customPlotOptions": {},
        "displayType": "table",
        "pivotAggregation": null,
        "pivotColumns": null,
        "xColumns": null,
        "yColumns": null
       },
       "removedWidgets": [],
       "schema": [
        {
         "metadata": "{\"__detected_date_formats\":\"yyyy-M\"}",
         "name": "REF_DATE",
         "type": "\"date\""
        },
        {
         "metadata": "{}",
         "name": "GEO",
         "type": "\"string\""
        },
        {
         "metadata": "{}",
         "name": "DGUID",
         "type": "\"string\""
        },
        {
         "metadata": "{}",
         "name": "UOM",
         "type": "\"string\""
        },
        {
         "metadata": "{}",
         "name": "UOM_ID",
         "type": "\"integer\""
        },
        {
         "metadata": "{}",
         "name": "SCALAR_FACTOR",
         "type": "\"string\""
        },
        {
         "metadata": "{}",
         "name": "SCALAR_ID",
         "type": "\"integer\""
        },
        {
         "metadata": "{}",
         "name": "VECTOR",
         "type": "\"string\""
        },
        {
         "metadata": "{}",
         "name": "COORDINATE",
         "type": "\"integer\""
        },
        {
         "metadata": "{}",
         "name": "VALUE",
         "type": "\"integer\""
        },
        {
         "metadata": "{}",
         "name": "STATUS",
         "type": "\"string\""
        },
        {
         "metadata": "{}",
         "name": "SYMBOL",
         "type": "\"string\""
        },
        {
         "metadata": "{}",
         "name": "TERMINATED",
         "type": "\"string\""
        },
        {
         "metadata": "{}",
         "name": "DECIMALS",
         "type": "\"integer\""
        }
       ],
       "type": "table"
      }
     },
     "output_type": "display_data"
    }
   ],
   "source": [
    "provpop = spark.read.csv(\n",
    "  f\"abfss://covid-project-data@covidprojectdata.dfs.core.windows.net/raw-data/prov_pop.csv\",\n",
    "  header=True,\n",
    "  inferSchema=True\n",
    ")\n",
    "display(provpop.limit(10))"
   ]
  },
  {
   "cell_type": "markdown",
   "metadata": {
    "application/vnd.databricks.v1+cell": {
     "cellMetadata": {
      "byteLimit": 2048000,
      "rowLimit": 10000
     },
     "inputWidgets": {},
     "nuid": "eded85fa-9784-4688-8848-87f9bf95ef17",
     "showTitle": false,
     "tableResultSettingsMap": {},
     "title": ""
    }
   },
   "source": [
    "## STEP 2: Clean the data"
   ]
  },
  {
   "cell_type": "markdown",
   "metadata": {
    "application/vnd.databricks.v1+cell": {
     "cellMetadata": {
      "byteLimit": 2048000,
      "rowLimit": 10000
     },
     "inputWidgets": {},
     "nuid": "cbf871aa-3d52-4164-a941-5a8114e1a6a9",
     "showTitle": false,
     "tableResultSettingsMap": {},
     "title": ""
    }
   },
   "source": [
    "####Steps to Follow\n",
    "\n",
    "1. **Inspect Raw Data:**\n",
    "   - Review schema, sample rows, and counts of null/blank/“-” values.\n",
    "\n",
    "2. **Drop Unnecessary Columns:**\n",
    "   - Remove columns not needed (e.g., `prnameFR`).\n",
    "\n",
    "3. **Clean Data:**\n",
    "   - Replace \"-\" and blank strings with null.\n",
    "   - Cast to correct numeric types.\n",
    "\n",
    "4. **Handle Missing Data:**\n",
    "   - Drop rows missing critical keys (`pruid`, `reporting_year`, `reporting_week`, `date`).\n",
    "   - Drop rows with null in required metrics or decide to fill with zero if appropriate.\n",
    "\n",
    "5. **Filter Data:**\n",
    "   - Remove rows with negative values in metrics.\n",
    "\n",
    "6. **Remove Duplicates:**\n",
    "   - Eliminate duplicate rows based on the natural key (`pruid`, `reporting_year`, `reporting_week`)."
   ]
  },
  {
   "cell_type": "markdown",
   "metadata": {
    "application/vnd.databricks.v1+cell": {
     "cellMetadata": {
      "byteLimit": 2048000,
      "rowLimit": 10000
     },
     "inputWidgets": {},
     "nuid": "b9d929ec-66e7-4fc1-89eb-debb049964c0",
     "showTitle": false,
     "tableResultSettingsMap": {},
     "title": ""
    }
   },
   "source": [
    "### 2.1 Inspect Raw Data\n",
    "\n",
    "- Check schema and sample rows.\n",
    "- Count how many null / blank / \"-\" values appear in key columns.\n"
   ]
  },
  {
   "cell_type": "code",
   "execution_count": 0,
   "metadata": {
    "application/vnd.databricks.v1+cell": {
     "cellMetadata": {
      "byteLimit": 2048000,
      "rowLimit": 10000
     },
     "inputWidgets": {},
     "nuid": "a0222fd1-13d1-4f70-a768-bae21a22cce5",
     "showTitle": false,
     "tableResultSettingsMap": {},
     "title": ""
    }
   },
   "outputs": [
    {
     "output_type": "stream",
     "name": "stdout",
     "output_type": "stream",
     "text": [
      "root\n |-- pruid: integer (nullable = true)\n |-- prname: string (nullable = true)\n |-- prnameFR: string (nullable = true)\n |-- date: date (nullable = true)\n |-- reporting_week: integer (nullable = true)\n |-- reporting_year: integer (nullable = true)\n |-- update: double (nullable = true)\n |-- totalcases: string (nullable = true)\n |-- numtotal_last7: string (nullable = true)\n |-- ratecases_total: string (nullable = true)\n |-- numdeaths: integer (nullable = true)\n |-- numdeaths_last7: double (nullable = true)\n |-- ratedeaths: double (nullable = true)\n |-- ratecases_last7: string (nullable = true)\n |-- ratedeaths_last7: double (nullable = true)\n |-- numtotal_last14: string (nullable = true)\n |-- numdeaths_last14: double (nullable = true)\n |-- ratetotal_last14: string (nullable = true)\n |-- ratedeaths_last14: double (nullable = true)\n |-- avgcases_last7: string (nullable = true)\n |-- avgincidence_last7: string (nullable = true)\n |-- avgdeaths_last7: double (nullable = true)\n |-- avgratedeaths_last7: double (nullable = true)\n\n+-----+----------------+--------------------+----------+--------------+--------------+------+----------+--------------+---------------+---------+---------------+----------+---------------+----------------+---------------+----------------+----------------+-----------------+--------------+------------------+---------------+-------------------+\n|pruid|prname          |prnameFR            |date      |reporting_week|reporting_year|update|totalcases|numtotal_last7|ratecases_total|numdeaths|numdeaths_last7|ratedeaths|ratecases_last7|ratedeaths_last7|numtotal_last14|numdeaths_last14|ratetotal_last14|ratedeaths_last14|avgcases_last7|avgincidence_last7|avgdeaths_last7|avgratedeaths_last7|\n+-----+----------------+--------------------+----------+--------------+--------------+------+----------+--------------+---------------+---------+---------------+----------+---------------+----------------+---------------+----------------+----------------+-----------------+--------------+------------------+---------------+-------------------+\n|59   |British Columbia|Colombie-Britannique|2020-02-08|6             |2020          |1.0   |4         |3             |0.07           |0        |0.0            |0.0       |0.05           |0.0             |4              |0.0             |0.07            |0.0              |0.43          |0.01              |0.0            |0.0                |\n|48   |Alberta         |Alberta             |2020-02-08|6             |2020          |1.0   |0         |0             |0              |0        |0.0            |0.0       |0              |0.0             |0              |0.0             |0               |0.0              |0             |0                 |0.0            |0.0                |\n|47   |Saskatchewan    |Saskatchewan        |2020-02-08|6             |2020          |1.0   |0         |0             |0              |0        |0.0            |0.0       |0              |0.0             |0              |0.0             |0               |0.0              |0             |0                 |0.0            |0.0                |\n|46   |Manitoba        |Manitoba            |2020-02-08|6             |2020          |1.0   |0         |0             |0              |0        |0.0            |0.0       |0              |0.0             |0              |0.0             |0               |0.0              |0             |0                 |0.0            |0.0                |\n|35   |Ontario         |Ontario             |2020-02-08|6             |2020          |1.0   |4         |1             |0.03           |0        |0.0            |0.0       |0.01           |0.0             |1              |0.0             |0.01            |0.0              |0.14          |0                 |0.0            |0.0                |\n+-----+----------------+--------------------+----------+--------------+--------------+------+----------+--------------+---------------+---------+---------------+----------+---------------+----------------+---------------+----------------+----------------+-----------------+--------------+------------------+---------------+-------------------+\nonly showing top 5 rows\n\n+--------------+---------------+-----------------+-------------+-----------------------+-----------------------+-----------------------+------------------------+------------------------+-------------------------+\n|pruid_badCount|prname_badCount|prnameFR_badCount|date_badCount|reporting_week_badCount|reporting_year_badCount|numtotal_last7_badCount|numdeaths_last7_badCount|ratecases_last7_badCount|ratedeaths_last7_badCount|\n+--------------+---------------+-----------------+-------------+-----------------------+-----------------------+-----------------------+------------------------+------------------------+-------------------------+\n|0             |0              |0                |0            |0                      |0                      |634                    |540                     |859                     |782                      |\n+--------------+---------------+-----------------+-------------+-----------------------+-----------------------+-----------------------+------------------------+------------------------+-------------------------+\n\n"
     ]
    }
   ],
   "source": [
    "from pyspark.sql.functions import col, when, trim, sum as _sum\n",
    "\n",
    "# 2.1.1: Show schema & first 5 rows\n",
    "death.printSchema()\n",
    "death.show(5, truncate=False)\n",
    "\n",
    "# 2.1.2: Count null/blank/\"-\" in critical columns\n",
    "cols_to_check = [\n",
    "  \"pruid\", \"prname\", \"prnameFR\",\n",
    "  \"date\", \"reporting_week\", \"reporting_year\",\n",
    "  \"numtotal_last7\", \"numdeaths_last7\",\n",
    "  \"ratecases_last7\", \"ratedeaths_last7\"\n",
    "]\n",
    "\n",
    "exprs = []\n",
    "for c in cols_to_check:\n",
    "    exprs.append(\n",
    "        _sum(\n",
    "            when(\n",
    "                col(c).isNull() | (trim(col(c)) == \"\") | (col(c) == \"-\"),\n",
    "                1\n",
    "            ).otherwise(0)\n",
    "        ).alias(f\"{c}_badCount\")\n",
    "    )\n",
    "\n",
    "death.select(exprs).show(truncate=False)\n"
   ]
  },
  {
   "cell_type": "markdown",
   "metadata": {
    "application/vnd.databricks.v1+cell": {
     "cellMetadata": {
      "byteLimit": 2048000,
      "rowLimit": 10000
     },
     "inputWidgets": {},
     "nuid": "e94a4a8b-104b-4c7f-942d-691cad5150c7",
     "showTitle": false,
     "tableResultSettingsMap": {},
     "title": ""
    }
   },
   "source": [
    "## STEP 2: Clean the **death** Table (keeping more columns)\n",
    "\n",
    "We will keep all of these columns:\n",
    "\n",
    "- `pruid`\n",
    "- `prname`\n",
    "- `prnameFR`\n",
    "- `date`\n",
    "- `reporting_week`\n",
    "- `reporting_year`\n",
    "- `update`\n",
    "- `totalcases`\n",
    "- `numtotal_last7`\n",
    "- `ratecases_total`\n",
    "- `numdeaths`\n",
    "- `numdeaths_last7`\n",
    "- `ratedeaths`\n",
    "- `ratecases_last7`\n",
    "- `ratedeaths_last7`\n",
    "- `numtotal_last14`\n",
    "- `numdeaths_last14`\n",
    "- `ratetotal_last14`\n",
    "- `ratedeaths_last14`\n",
    "- `avgcases_last7`\n",
    "- `avgincidence_last7`\n",
    "- `avgdeaths_last7`\n",
    "- `avgratedeaths_last7`\n"
   ]
  },
  {
   "cell_type": "code",
   "execution_count": 0,
   "metadata": {
    "application/vnd.databricks.v1+cell": {
     "cellMetadata": {
      "byteLimit": 2048000,
      "rowLimit": 10000
     },
     "inputWidgets": {},
     "nuid": "d0a654db-1dd4-4fac-b585-bb7aa2d1b90f",
     "showTitle": false,
     "tableResultSettingsMap": {},
     "title": ""
    }
   },
   "outputs": [
    {
     "output_type": "stream",
     "name": "stdout",
     "output_type": "stream",
     "text": [
      "root\n |-- pruid: integer (nullable = true)\n |-- prname: string (nullable = true)\n |-- prnameFR: string (nullable = true)\n |-- date: date (nullable = true)\n |-- reporting_week: integer (nullable = true)\n |-- reporting_year: integer (nullable = true)\n |-- update: double (nullable = true)\n |-- totalcases: string (nullable = true)\n |-- numtotal_last7: string (nullable = true)\n |-- ratecases_total: string (nullable = true)\n |-- numdeaths: integer (nullable = true)\n |-- numdeaths_last7: double (nullable = true)\n |-- ratedeaths: double (nullable = true)\n |-- ratecases_last7: string (nullable = true)\n |-- ratedeaths_last7: double (nullable = true)\n |-- numtotal_last14: string (nullable = true)\n |-- numdeaths_last14: double (nullable = true)\n |-- ratetotal_last14: string (nullable = true)\n |-- ratedeaths_last14: double (nullable = true)\n |-- avgcases_last7: string (nullable = true)\n |-- avgincidence_last7: string (nullable = true)\n |-- avgdeaths_last7: double (nullable = true)\n |-- avgratedeaths_last7: double (nullable = true)\n\n"
     ]
    },
    {
     "output_type": "display_data",
     "data": {
      "text/html": [
       "<style scoped>\n",
       "  .table-result-container {\n",
       "    max-height: 300px;\n",
       "    overflow: auto;\n",
       "  }\n",
       "  table, th, td {\n",
       "    border: 1px solid black;\n",
       "    border-collapse: collapse;\n",
       "  }\n",
       "  th, td {\n",
       "    padding: 5px;\n",
       "  }\n",
       "  th {\n",
       "    text-align: left;\n",
       "  }\n",
       "</style><div class='table-result-container'><table class='table-result'><thead style='background-color: white'><tr><th>pruid</th><th>prname</th><th>prnameFR</th><th>date</th><th>reporting_week</th><th>reporting_year</th><th>update</th><th>totalcases</th><th>numtotal_last7</th><th>ratecases_total</th><th>numdeaths</th><th>numdeaths_last7</th><th>ratedeaths</th><th>ratecases_last7</th><th>ratedeaths_last7</th><th>numtotal_last14</th><th>numdeaths_last14</th><th>ratetotal_last14</th><th>ratedeaths_last14</th><th>avgcases_last7</th><th>avgincidence_last7</th><th>avgdeaths_last7</th><th>avgratedeaths_last7</th></tr></thead><tbody><tr><td>59</td><td>British Columbia</td><td>Colombie-Britannique</td><td>2020-02-08</td><td>6</td><td>2020</td><td>1.0</td><td>4</td><td>3</td><td>0.07</td><td>0</td><td>0.0</td><td>0.0</td><td>0.05</td><td>0.0</td><td>4</td><td>0.0</td><td>0.07</td><td>0.0</td><td>0.43</td><td>0.01</td><td>0.0</td><td>0.0</td></tr><tr><td>48</td><td>Alberta</td><td>Alberta</td><td>2020-02-08</td><td>6</td><td>2020</td><td>1.0</td><td>0</td><td>0</td><td>0</td><td>0</td><td>0.0</td><td>0.0</td><td>0</td><td>0.0</td><td>0</td><td>0.0</td><td>0</td><td>0.0</td><td>0</td><td>0</td><td>0.0</td><td>0.0</td></tr><tr><td>47</td><td>Saskatchewan</td><td>Saskatchewan</td><td>2020-02-08</td><td>6</td><td>2020</td><td>1.0</td><td>0</td><td>0</td><td>0</td><td>0</td><td>0.0</td><td>0.0</td><td>0</td><td>0.0</td><td>0</td><td>0.0</td><td>0</td><td>0.0</td><td>0</td><td>0</td><td>0.0</td><td>0.0</td></tr><tr><td>46</td><td>Manitoba</td><td>Manitoba</td><td>2020-02-08</td><td>6</td><td>2020</td><td>1.0</td><td>0</td><td>0</td><td>0</td><td>0</td><td>0.0</td><td>0.0</td><td>0</td><td>0.0</td><td>0</td><td>0.0</td><td>0</td><td>0.0</td><td>0</td><td>0</td><td>0.0</td><td>0.0</td></tr><tr><td>35</td><td>Ontario</td><td>Ontario</td><td>2020-02-08</td><td>6</td><td>2020</td><td>1.0</td><td>4</td><td>1</td><td>0.03</td><td>0</td><td>0.0</td><td>0.0</td><td>0.01</td><td>0.0</td><td>1</td><td>0.0</td><td>0.01</td><td>0.0</td><td>0.14</td><td>0</td><td>0.0</td><td>0.0</td></tr></tbody></table></div>"
      ]
     },
     "metadata": {
      "application/vnd.databricks.v1+output": {
       "addedWidgets": {},
       "aggData": [],
       "aggError": "",
       "aggOverflow": false,
       "aggSchema": [],
       "aggSeriesLimitReached": false,
       "aggType": "",
       "arguments": {},
       "columnCustomDisplayInfos": {},
       "data": [
        [
         59,
         "British Columbia",
         "Colombie-Britannique",
         "2020-02-08",
         6,
         2020,
         1.0,
         "4",
         "3",
         "0.07",
         0,
         0.0,
         0.0,
         "0.05",
         0.0,
         "4",
         0.0,
         "0.07",
         0.0,
         "0.43",
         "0.01",
         0.0,
         0.0
        ],
        [
         48,
         "Alberta",
         "Alberta",
         "2020-02-08",
         6,
         2020,
         1.0,
         "0",
         "0",
         "0",
         0,
         0.0,
         0.0,
         "0",
         0.0,
         "0",
         0.0,
         "0",
         0.0,
         "0",
         "0",
         0.0,
         0.0
        ],
        [
         47,
         "Saskatchewan",
         "Saskatchewan",
         "2020-02-08",
         6,
         2020,
         1.0,
         "0",
         "0",
         "0",
         0,
         0.0,
         0.0,
         "0",
         0.0,
         "0",
         0.0,
         "0",
         0.0,
         "0",
         "0",
         0.0,
         0.0
        ],
        [
         46,
         "Manitoba",
         "Manitoba",
         "2020-02-08",
         6,
         2020,
         1.0,
         "0",
         "0",
         "0",
         0,
         0.0,
         0.0,
         "0",
         0.0,
         "0",
         0.0,
         "0",
         0.0,
         "0",
         "0",
         0.0,
         0.0
        ],
        [
         35,
         "Ontario",
         "Ontario",
         "2020-02-08",
         6,
         2020,
         1.0,
         "4",
         "1",
         "0.03",
         0,
         0.0,
         0.0,
         "0.01",
         0.0,
         "1",
         0.0,
         "0.01",
         0.0,
         "0.14",
         "0",
         0.0,
         0.0
        ]
       ],
       "datasetInfos": [],
       "dbfsResultPath": null,
       "isJsonSchema": true,
       "metadata": {},
       "overflow": false,
       "plotOptions": {
        "customPlotOptions": {},
        "displayType": "table",
        "pivotAggregation": null,
        "pivotColumns": null,
        "xColumns": null,
        "yColumns": null
       },
       "removedWidgets": [],
       "schema": [
        {
         "metadata": "{}",
         "name": "pruid",
         "type": "\"integer\""
        },
        {
         "metadata": "{}",
         "name": "prname",
         "type": "\"string\""
        },
        {
         "metadata": "{}",
         "name": "prnameFR",
         "type": "\"string\""
        },
        {
         "metadata": "{\"__detected_date_formats\":\"yyyy-M-d\"}",
         "name": "date",
         "type": "\"date\""
        },
        {
         "metadata": "{}",
         "name": "reporting_week",
         "type": "\"integer\""
        },
        {
         "metadata": "{}",
         "name": "reporting_year",
         "type": "\"integer\""
        },
        {
         "metadata": "{}",
         "name": "update",
         "type": "\"double\""
        },
        {
         "metadata": "{}",
         "name": "totalcases",
         "type": "\"string\""
        },
        {
         "metadata": "{}",
         "name": "numtotal_last7",
         "type": "\"string\""
        },
        {
         "metadata": "{}",
         "name": "ratecases_total",
         "type": "\"string\""
        },
        {
         "metadata": "{}",
         "name": "numdeaths",
         "type": "\"integer\""
        },
        {
         "metadata": "{}",
         "name": "numdeaths_last7",
         "type": "\"double\""
        },
        {
         "metadata": "{}",
         "name": "ratedeaths",
         "type": "\"double\""
        },
        {
         "metadata": "{}",
         "name": "ratecases_last7",
         "type": "\"string\""
        },
        {
         "metadata": "{}",
         "name": "ratedeaths_last7",
         "type": "\"double\""
        },
        {
         "metadata": "{}",
         "name": "numtotal_last14",
         "type": "\"string\""
        },
        {
         "metadata": "{}",
         "name": "numdeaths_last14",
         "type": "\"double\""
        },
        {
         "metadata": "{}",
         "name": "ratetotal_last14",
         "type": "\"string\""
        },
        {
         "metadata": "{}",
         "name": "ratedeaths_last14",
         "type": "\"double\""
        },
        {
         "metadata": "{}",
         "name": "avgcases_last7",
         "type": "\"string\""
        },
        {
         "metadata": "{}",
         "name": "avgincidence_last7",
         "type": "\"string\""
        },
        {
         "metadata": "{}",
         "name": "avgdeaths_last7",
         "type": "\"double\""
        },
        {
         "metadata": "{}",
         "name": "avgratedeaths_last7",
         "type": "\"double\""
        }
       ],
       "type": "table"
      }
     },
     "output_type": "display_data"
    }
   ],
   "source": [
    "from pyspark.sql.functions import col, when, trim, to_date, lit\n",
    "from pyspark.sql.types import IntegerType, DoubleType\n",
    "\n",
    "# 2.1: Select all desired columns from raw `death`\n",
    "cols_keep_death = [\n",
    "    \"pruid\",\n",
    "    \"prname\",\n",
    "    \"prnameFR\",\n",
    "    \"date\",\n",
    "    \"reporting_week\",\n",
    "    \"reporting_year\",\n",
    "    \"update\",\n",
    "    \"totalcases\",\n",
    "    \"numtotal_last7\",\n",
    "    \"ratecases_total\",\n",
    "    \"numdeaths\",\n",
    "    \"numdeaths_last7\",\n",
    "    \"ratedeaths\",\n",
    "    \"ratecases_last7\",\n",
    "    \"ratedeaths_last7\",\n",
    "    \"numtotal_last14\",\n",
    "    \"numdeaths_last14\",\n",
    "    \"ratetotal_last14\",\n",
    "    \"ratedeaths_last14\",\n",
    "    \"avgcases_last7\",\n",
    "    \"avgincidence_last7\",\n",
    "    \"avgdeaths_last7\",\n",
    "    \"avgratedeaths_last7\"\n",
    "]\n",
    "\n",
    "death_trimmed = death.select(*cols_keep_death)\n",
    "\n",
    "# 2.2: Inspect schema and sample rows\n",
    "death_trimmed.printSchema()\n",
    "display(death_trimmed.limit(5))\n"
   ]
  },
  {
   "cell_type": "code",
   "execution_count": 0,
   "metadata": {
    "application/vnd.databricks.v1+cell": {
     "cellMetadata": {
      "byteLimit": 2048000,
      "rowLimit": 10000
     },
     "inputWidgets": {},
     "nuid": "3c03a2c1-9434-4e3e-8ac1-6c54ed0a6c49",
     "showTitle": false,
     "tableResultSettingsMap": {},
     "title": ""
    }
   },
   "outputs": [
    {
     "output_type": "execute_result",
     "data": {
      "text/plain": [
       "3630"
      ]
     },
     "execution_count": 148,
     "metadata": {},
     "output_type": "execute_result"
    }
   ],
   "source": [
    "death_trimmed.count()"
   ]
  },
  {
   "cell_type": "markdown",
   "metadata": {
    "application/vnd.databricks.v1+cell": {
     "cellMetadata": {
      "byteLimit": 2048000,
      "rowLimit": 10000
     },
     "inputWidgets": {},
     "nuid": "5c969b26-ebf7-400c-9110-3190e1b6426c",
     "showTitle": false,
     "tableResultSettingsMap": {},
     "title": ""
    }
   },
   "source": [
    "### 2.3 Replace `\"-\"` or blank strings with `null`, then cast to correct types.\n",
    "\n",
    "- Integer fields:  \n",
    "  `pruid`, `reporting_week`, `reporting_year`, `update`, `totalcases`,  \n",
    "  `numtotal_last7`, `numdeaths`, `numdeaths_last7`, `numtotal_last14`, `numdeaths_last14`, `avgcases_last7`, `avgincidence_last7`, `avgdeaths_last7`, `avgratedeaths_last7`  \n",
    "\n",
    "- Double fields (rates):  \n",
    "  `ratecases_total`, `ratedeaths`, `ratecases_last7`, `ratedeaths_last7`, `ratetotal_last14`, `ratedeaths_last14`  \n",
    "\n",
    "- Date field:  \n",
    "  `date` (format `yyyy-MM-dd`)  \n",
    "\n",
    "- String fields remain as is:  \n",
    "  `prname`, `prnameFR`\n"
   ]
  },
  {
   "cell_type": "code",
   "execution_count": 0,
   "metadata": {
    "application/vnd.databricks.v1+cell": {
     "cellMetadata": {
      "byteLimit": 2048000,
      "rowLimit": 10000
     },
     "inputWidgets": {},
     "nuid": "adf92fb1-b744-4118-8716-4cbdbafe9f37",
     "showTitle": false,
     "tableResultSettingsMap": {},
     "title": ""
    }
   },
   "outputs": [],
   "source": [
    "# 2.3.1: Replace \"-\" or \"\" with null for each column that needs casting\n",
    "tmp = death_trimmed\n",
    "for c in [\n",
    "    \"pruid\",\n",
    "    \"reporting_week\",\n",
    "    \"reporting_year\",\n",
    "    \"update\",\n",
    "    \"totalcases\",\n",
    "    \"numtotal_last7\",\n",
    "    \"ratecases_total\",\n",
    "    \"numdeaths\",\n",
    "    \"numdeaths_last7\",\n",
    "    \"ratedeaths\",\n",
    "    \"ratecases_last7\",\n",
    "    \"ratedeaths_last7\",\n",
    "    \"numtotal_last14\",\n",
    "    \"numdeaths_last14\",\n",
    "    \"ratetotal_last14\",\n",
    "    \"ratedeaths_last14\",\n",
    "    \"avgcases_last7\",\n",
    "    \"avgincidence_last7\",\n",
    "    \"avgdeaths_last7\",\n",
    "    \"avgratedeaths_last7\"\n",
    "]:\n",
    "    tmp = tmp.withColumn(\n",
    "        c,\n",
    "        when((trim(col(c)) == \"\") | (col(c) == \"-\"), None).otherwise(col(c))\n",
    "    )\n",
    "\n",
    "# 2.3.2: Cast columns to correct types\n",
    "death_cast = tmp \\\n",
    "    .withColumn(\"pruid\", col(\"pruid\").cast(IntegerType())) \\\n",
    "    .withColumn(\"reporting_week\", col(\"reporting_week\").cast(IntegerType())) \\\n",
    "    .withColumn(\"reporting_year\", col(\"reporting_year\").cast(IntegerType())) \\\n",
    "    .withColumn(\"update\", col(\"update\").cast(IntegerType())) \\\n",
    "    .withColumn(\"totalcases\", col(\"totalcases\").cast(IntegerType())) \\\n",
    "    .withColumn(\"numtotal_last7\", col(\"numtotal_last7\").cast(IntegerType())) \\\n",
    "    .withColumn(\"ratecases_total\", col(\"ratecases_total\").cast(DoubleType())) \\\n",
    "    .withColumn(\"numdeaths\", col(\"numdeaths\").cast(IntegerType())) \\\n",
    "    .withColumn(\"numdeaths_last7\", col(\"numdeaths_last7\").cast(IntegerType())) \\\n",
    "    .withColumn(\"ratedeaths\", col(\"ratedeaths\").cast(DoubleType())) \\\n",
    "    .withColumn(\"ratecases_last7\", col(\"ratecases_last7\").cast(DoubleType())) \\\n",
    "    .withColumn(\"ratedeaths_last7\", col(\"ratedeaths_last7\").cast(DoubleType())) \\\n",
    "    .withColumn(\"numtotal_last14\", col(\"numtotal_last14\").cast(IntegerType())) \\\n",
    "    .withColumn(\"numdeaths_last14\", col(\"numdeaths_last14\").cast(IntegerType())) \\\n",
    "    .withColumn(\"ratetotal_last14\", col(\"ratetotal_last14\").cast(DoubleType())) \\\n",
    "    .withColumn(\"ratedeaths_last14\", col(\"ratedeaths_last14\").cast(DoubleType())) \\\n",
    "    .withColumn(\"avgcases_last7\", col(\"avgcases_last7\").cast(IntegerType())) \\\n",
    "    .withColumn(\"avgincidence_last7\", col(\"avgincidence_last7\").cast(IntegerType())) \\\n",
    "    .withColumn(\"avgdeaths_last7\", col(\"avgdeaths_last7\").cast(IntegerType())) \\\n",
    "    .withColumn(\"avgratedeaths_last7\", col(\"avgratedeaths_last7\").cast(IntegerType())) \\\n",
    "    .withColumn(\"date\", to_date(col(\"date\"), \"yyyy-MM-dd\"))\n"
   ]
  },
  {
   "cell_type": "code",
   "execution_count": 0,
   "metadata": {
    "application/vnd.databricks.v1+cell": {
     "cellMetadata": {
      "byteLimit": 2048000,
      "rowLimit": 10000
     },
     "inputWidgets": {},
     "nuid": "a9054c35-a55a-4a54-81be-a0c0a3a0f4a0",
     "showTitle": false,
     "tableResultSettingsMap": {},
     "title": ""
    }
   },
   "outputs": [
    {
     "output_type": "stream",
     "name": "stdout",
     "output_type": "stream",
     "text": [
      "root\n |-- pruid: integer (nullable = true)\n |-- prname: string (nullable = true)\n |-- prnameFR: string (nullable = true)\n |-- date: date (nullable = true)\n |-- reporting_week: integer (nullable = true)\n |-- reporting_year: integer (nullable = true)\n |-- update: integer (nullable = true)\n |-- totalcases: integer (nullable = true)\n |-- numtotal_last7: integer (nullable = true)\n |-- ratecases_total: double (nullable = true)\n |-- numdeaths: integer (nullable = true)\n |-- numdeaths_last7: integer (nullable = true)\n |-- ratedeaths: double (nullable = true)\n |-- ratecases_last7: double (nullable = true)\n |-- ratedeaths_last7: double (nullable = true)\n |-- numtotal_last14: integer (nullable = true)\n |-- numdeaths_last14: integer (nullable = true)\n |-- ratetotal_last14: double (nullable = true)\n |-- ratedeaths_last14: double (nullable = true)\n |-- avgcases_last7: integer (nullable = true)\n |-- avgincidence_last7: integer (nullable = true)\n |-- avgdeaths_last7: integer (nullable = true)\n |-- avgratedeaths_last7: integer (nullable = true)\n\n"
     ]
    },
    {
     "output_type": "display_data",
     "data": {
      "text/html": [
       "<style scoped>\n",
       "  .table-result-container {\n",
       "    max-height: 300px;\n",
       "    overflow: auto;\n",
       "  }\n",
       "  table, th, td {\n",
       "    border: 1px solid black;\n",
       "    border-collapse: collapse;\n",
       "  }\n",
       "  th, td {\n",
       "    padding: 5px;\n",
       "  }\n",
       "  th {\n",
       "    text-align: left;\n",
       "  }\n",
       "</style><div class='table-result-container'><table class='table-result'><thead style='background-color: white'><tr><th>pruid</th><th>prname</th><th>prnameFR</th><th>date</th><th>reporting_week</th><th>reporting_year</th><th>update</th><th>totalcases</th><th>numtotal_last7</th><th>ratecases_total</th><th>numdeaths</th><th>numdeaths_last7</th><th>ratedeaths</th><th>ratecases_last7</th><th>ratedeaths_last7</th><th>numtotal_last14</th><th>numdeaths_last14</th><th>ratetotal_last14</th><th>ratedeaths_last14</th><th>avgcases_last7</th><th>avgincidence_last7</th><th>avgdeaths_last7</th><th>avgratedeaths_last7</th></tr></thead><tbody><tr><td>59</td><td>British Columbia</td><td>Colombie-Britannique</td><td>2020-02-08</td><td>6</td><td>2020</td><td>1</td><td>4</td><td>3</td><td>0.07</td><td>0</td><td>0</td><td>0.0</td><td>0.05</td><td>0.0</td><td>4</td><td>0</td><td>0.07</td><td>0.0</td><td>0</td><td>0</td><td>0</td><td>0</td></tr><tr><td>48</td><td>Alberta</td><td>Alberta</td><td>2020-02-08</td><td>6</td><td>2020</td><td>1</td><td>0</td><td>0</td><td>0.0</td><td>0</td><td>0</td><td>0.0</td><td>0.0</td><td>0.0</td><td>0</td><td>0</td><td>0.0</td><td>0.0</td><td>0</td><td>0</td><td>0</td><td>0</td></tr><tr><td>47</td><td>Saskatchewan</td><td>Saskatchewan</td><td>2020-02-08</td><td>6</td><td>2020</td><td>1</td><td>0</td><td>0</td><td>0.0</td><td>0</td><td>0</td><td>0.0</td><td>0.0</td><td>0.0</td><td>0</td><td>0</td><td>0.0</td><td>0.0</td><td>0</td><td>0</td><td>0</td><td>0</td></tr><tr><td>46</td><td>Manitoba</td><td>Manitoba</td><td>2020-02-08</td><td>6</td><td>2020</td><td>1</td><td>0</td><td>0</td><td>0.0</td><td>0</td><td>0</td><td>0.0</td><td>0.0</td><td>0.0</td><td>0</td><td>0</td><td>0.0</td><td>0.0</td><td>0</td><td>0</td><td>0</td><td>0</td></tr><tr><td>35</td><td>Ontario</td><td>Ontario</td><td>2020-02-08</td><td>6</td><td>2020</td><td>1</td><td>4</td><td>1</td><td>0.03</td><td>0</td><td>0</td><td>0.0</td><td>0.01</td><td>0.0</td><td>1</td><td>0</td><td>0.01</td><td>0.0</td><td>0</td><td>0</td><td>0</td><td>0</td></tr></tbody></table></div>"
      ]
     },
     "metadata": {
      "application/vnd.databricks.v1+output": {
       "addedWidgets": {},
       "aggData": [],
       "aggError": "",
       "aggOverflow": false,
       "aggSchema": [],
       "aggSeriesLimitReached": false,
       "aggType": "",
       "arguments": {},
       "columnCustomDisplayInfos": {},
       "data": [
        [
         59,
         "British Columbia",
         "Colombie-Britannique",
         "2020-02-08",
         6,
         2020,
         1,
         4,
         3,
         0.07,
         0,
         0,
         0.0,
         0.05,
         0.0,
         4,
         0,
         0.07,
         0.0,
         0,
         0,
         0,
         0
        ],
        [
         48,
         "Alberta",
         "Alberta",
         "2020-02-08",
         6,
         2020,
         1,
         0,
         0,
         0.0,
         0,
         0,
         0.0,
         0.0,
         0.0,
         0,
         0,
         0.0,
         0.0,
         0,
         0,
         0,
         0
        ],
        [
         47,
         "Saskatchewan",
         "Saskatchewan",
         "2020-02-08",
         6,
         2020,
         1,
         0,
         0,
         0.0,
         0,
         0,
         0.0,
         0.0,
         0.0,
         0,
         0,
         0.0,
         0.0,
         0,
         0,
         0,
         0
        ],
        [
         46,
         "Manitoba",
         "Manitoba",
         "2020-02-08",
         6,
         2020,
         1,
         0,
         0,
         0.0,
         0,
         0,
         0.0,
         0.0,
         0.0,
         0,
         0,
         0.0,
         0.0,
         0,
         0,
         0,
         0
        ],
        [
         35,
         "Ontario",
         "Ontario",
         "2020-02-08",
         6,
         2020,
         1,
         4,
         1,
         0.03,
         0,
         0,
         0.0,
         0.01,
         0.0,
         1,
         0,
         0.01,
         0.0,
         0,
         0,
         0,
         0
        ]
       ],
       "datasetInfos": [],
       "dbfsResultPath": null,
       "isJsonSchema": true,
       "metadata": {},
       "overflow": false,
       "plotOptions": {
        "customPlotOptions": {},
        "displayType": "table",
        "pivotAggregation": null,
        "pivotColumns": null,
        "xColumns": null,
        "yColumns": null
       },
       "removedWidgets": [],
       "schema": [
        {
         "metadata": "{}",
         "name": "pruid",
         "type": "\"integer\""
        },
        {
         "metadata": "{}",
         "name": "prname",
         "type": "\"string\""
        },
        {
         "metadata": "{}",
         "name": "prnameFR",
         "type": "\"string\""
        },
        {
         "metadata": "{}",
         "name": "date",
         "type": "\"date\""
        },
        {
         "metadata": "{}",
         "name": "reporting_week",
         "type": "\"integer\""
        },
        {
         "metadata": "{}",
         "name": "reporting_year",
         "type": "\"integer\""
        },
        {
         "metadata": "{}",
         "name": "update",
         "type": "\"integer\""
        },
        {
         "metadata": "{}",
         "name": "totalcases",
         "type": "\"integer\""
        },
        {
         "metadata": "{}",
         "name": "numtotal_last7",
         "type": "\"integer\""
        },
        {
         "metadata": "{}",
         "name": "ratecases_total",
         "type": "\"double\""
        },
        {
         "metadata": "{}",
         "name": "numdeaths",
         "type": "\"integer\""
        },
        {
         "metadata": "{}",
         "name": "numdeaths_last7",
         "type": "\"integer\""
        },
        {
         "metadata": "{}",
         "name": "ratedeaths",
         "type": "\"double\""
        },
        {
         "metadata": "{}",
         "name": "ratecases_last7",
         "type": "\"double\""
        },
        {
         "metadata": "{}",
         "name": "ratedeaths_last7",
         "type": "\"double\""
        },
        {
         "metadata": "{}",
         "name": "numtotal_last14",
         "type": "\"integer\""
        },
        {
         "metadata": "{}",
         "name": "numdeaths_last14",
         "type": "\"integer\""
        },
        {
         "metadata": "{}",
         "name": "ratetotal_last14",
         "type": "\"double\""
        },
        {
         "metadata": "{}",
         "name": "ratedeaths_last14",
         "type": "\"double\""
        },
        {
         "metadata": "{}",
         "name": "avgcases_last7",
         "type": "\"integer\""
        },
        {
         "metadata": "{}",
         "name": "avgincidence_last7",
         "type": "\"integer\""
        },
        {
         "metadata": "{}",
         "name": "avgdeaths_last7",
         "type": "\"integer\""
        },
        {
         "metadata": "{}",
         "name": "avgratedeaths_last7",
         "type": "\"integer\""
        }
       ],
       "type": "table"
      }
     },
     "output_type": "display_data"
    }
   ],
   "source": [
    "death_cast.printSchema()\n",
    "display(death_cast.limit(5))"
   ]
  },
  {
   "cell_type": "markdown",
   "metadata": {
    "application/vnd.databricks.v1+cell": {
     "cellMetadata": {
      "byteLimit": 2048000,
      "rowLimit": 10000
     },
     "inputWidgets": {},
     "nuid": "d737bef6-31c5-4826-b935-f071f2e55e28",
     "showTitle": false,
     "tableResultSettingsMap": {},
     "title": ""
    }
   },
   "source": [
    "### 2.4 Handle Missing Data\n",
    "\n",
    "- Drop rows missing critical keys: `pruid`, `reporting_year`, `reporting_week`, `date`.\n",
    "- For numeric metrics, if `null` → fill with 0 (since a missing count usually means zero for that metric).\n"
   ]
  },
  {
   "cell_type": "code",
   "execution_count": 0,
   "metadata": {
    "application/vnd.databricks.v1+cell": {
     "cellMetadata": {
      "byteLimit": 2048000,
      "rowLimit": 10000
     },
     "inputWidgets": {},
     "nuid": "382d8c0e-e9f4-455f-ba91-bb605914388e",
     "showTitle": false,
     "tableResultSettingsMap": {},
     "title": ""
    }
   },
   "outputs": [],
   "source": [
    "# 2.4.1: Drop rows missing mandatory keys\n",
    "mandatory_cols = [\"pruid\", \"reporting_year\", \"reporting_week\", \"date\"]\n",
    "death_nonull = death_cast.na.drop(subset=mandatory_cols)\n",
    "\n",
    "# 2.4.2: Fill nulls with zero for all numeric metric columns\n",
    "death_filled = death_nonull.fillna({\n",
    "    \"update\": 0,\n",
    "    \"totalcases\": 0,\n",
    "    \"numtotal_last7\": 0,\n",
    "    \"ratecases_total\": 0.0,\n",
    "    \"numdeaths\": 0,\n",
    "    \"numdeaths_last7\": 0,\n",
    "    \"ratedeaths\": 0.0,\n",
    "    \"ratecases_last7\": 0.0,\n",
    "    \"ratedeaths_last7\": 0.0,\n",
    "    \"numtotal_last14\": 0,\n",
    "    \"numdeaths_last14\": 0,\n",
    "    \"ratetotal_last14\": 0.0,\n",
    "    \"ratedeaths_last14\": 0.0,\n",
    "    \"avgcases_last7\": 0,\n",
    "    \"avgincidence_last7\": 0,\n",
    "    \"avgdeaths_last7\": 0,\n",
    "    \"avgratedeaths_last7\": 0\n",
    "})\n"
   ]
  },
  {
   "cell_type": "markdown",
   "metadata": {
    "application/vnd.databricks.v1+cell": {
     "cellMetadata": {
      "byteLimit": 2048000,
      "rowLimit": 10000
     },
     "inputWidgets": {},
     "nuid": "96fd5012-1962-42a9-a6cf-4caa93a5a86c",
     "showTitle": false,
     "tableResultSettingsMap": {},
     "title": ""
    }
   },
   "source": [
    "### 2.5 Filter Out Negative Values\n",
    "\n",
    "Remove any row where any of the numeric count columns is negative, or rate is negative.\n"
   ]
  },
  {
   "cell_type": "code",
   "execution_count": 0,
   "metadata": {
    "application/vnd.databricks.v1+cell": {
     "cellMetadata": {
      "byteLimit": 2048000,
      "rowLimit": 10000
     },
     "inputWidgets": {},
     "nuid": "68fb2d47-a5eb-43f3-b003-afd798fb8603",
     "showTitle": false,
     "tableResultSettingsMap": {},
     "title": ""
    }
   },
   "outputs": [],
   "source": [
    "death_filtered = death_filled \\\n",
    "    .filter((col(\"totalcases\") >= 0)\n",
    "            & (col(\"numtotal_last7\") >= 0)\n",
    "            & (col(\"numdeaths\") >= 0)\n",
    "            & (col(\"numdeaths_last7\") >= 0)\n",
    "            & (col(\"numtotal_last14\") >= 0)\n",
    "            & (col(\"numdeaths_last14\") >= 0)\n",
    "            & (col(\"avgcases_last7\") >= 0)\n",
    "            & (col(\"avgincidence_last7\") >= 0)\n",
    "            & (col(\"avgdeaths_last7\") >= 0)\n",
    "            & (col(\"avgratedeaths_last7\") >= 0)) \\\n",
    "    .filter((col(\"ratecases_total\") >= 0.0)\n",
    "            & (col(\"ratedeaths\") >= 0.0)\n",
    "            & (col(\"ratecases_last7\") >= 0.0)\n",
    "            & (col(\"ratedeaths_last7\") >= 0.0)\n",
    "            & (col(\"ratetotal_last14\") >= 0.0)\n",
    "            & (col(\"ratedeaths_last14\") >= 0.0))\n"
   ]
  },
  {
   "cell_type": "markdown",
   "metadata": {
    "application/vnd.databricks.v1+cell": {
     "cellMetadata": {
      "byteLimit": 2048000,
      "rowLimit": 10000
     },
     "inputWidgets": {},
     "nuid": "ff889bc2-700e-4981-b8ff-02592f58431c",
     "showTitle": false,
     "tableResultSettingsMap": {},
     "title": ""
    }
   },
   "source": [
    "### 2.6 Remove Duplicates Based on Composite Key\n",
    "\n",
    "Natural key is `(pruid, reporting_year, reporting_week)`. Drop duplicates, keep the first.\n"
   ]
  },
  {
   "cell_type": "code",
   "execution_count": 0,
   "metadata": {
    "application/vnd.databricks.v1+cell": {
     "cellMetadata": {
      "byteLimit": 2048000,
      "rowLimit": 10000
     },
     "inputWidgets": {},
     "nuid": "c583e536-ddd2-4609-bb83-10441a1e8e5c",
     "showTitle": false,
     "tableResultSettingsMap": {},
     "title": ""
    }
   },
   "outputs": [],
   "source": [
    "death_clean = death_filtered.dropDuplicates([\"pruid\", \"reporting_year\", \"reporting_week\"])\n"
   ]
  },
  {
   "cell_type": "markdown",
   "metadata": {
    "application/vnd.databricks.v1+cell": {
     "cellMetadata": {
      "byteLimit": 2048000,
      "rowLimit": 10000
     },
     "inputWidgets": {},
     "nuid": "45d370a8-2ea5-4f9f-9a0b-0316883f8212",
     "showTitle": false,
     "tableResultSettingsMap": {},
     "title": ""
    }
   },
   "source": [
    "### 2.7 Final Check\n",
    "\n",
    "Verify schema and row count in `death_clean`.\n"
   ]
  },
  {
   "cell_type": "code",
   "execution_count": 0,
   "metadata": {
    "application/vnd.databricks.v1+cell": {
     "cellMetadata": {
      "byteLimit": 2048000,
      "rowLimit": 10000
     },
     "inputWidgets": {},
     "nuid": "65c2de9e-f0ee-484d-923f-3eb267e8dbcc",
     "showTitle": false,
     "tableResultSettingsMap": {},
     "title": ""
    }
   },
   "outputs": [
    {
     "output_type": "stream",
     "name": "stdout",
     "output_type": "stream",
     "text": [
      "root\n |-- pruid: integer (nullable = true)\n |-- prname: string (nullable = true)\n |-- prnameFR: string (nullable = true)\n |-- date: date (nullable = true)\n |-- reporting_week: integer (nullable = true)\n |-- reporting_year: integer (nullable = true)\n |-- update: integer (nullable = false)\n |-- totalcases: integer (nullable = false)\n |-- numtotal_last7: integer (nullable = false)\n |-- ratecases_total: double (nullable = false)\n |-- numdeaths: integer (nullable = false)\n |-- numdeaths_last7: integer (nullable = false)\n |-- ratedeaths: double (nullable = false)\n |-- ratecases_last7: double (nullable = false)\n |-- ratedeaths_last7: double (nullable = false)\n |-- numtotal_last14: integer (nullable = false)\n |-- numdeaths_last14: integer (nullable = false)\n |-- ratetotal_last14: double (nullable = false)\n |-- ratedeaths_last14: double (nullable = false)\n |-- avgcases_last7: integer (nullable = false)\n |-- avgincidence_last7: integer (nullable = false)\n |-- avgdeaths_last7: integer (nullable = false)\n |-- avgratedeaths_last7: integer (nullable = false)\n\nRows in death_clean: 3628\n"
     ]
    },
    {
     "output_type": "display_data",
     "data": {
      "text/html": [
       "<style scoped>\n",
       "  .table-result-container {\n",
       "    max-height: 300px;\n",
       "    overflow: auto;\n",
       "  }\n",
       "  table, th, td {\n",
       "    border: 1px solid black;\n",
       "    border-collapse: collapse;\n",
       "  }\n",
       "  th, td {\n",
       "    padding: 5px;\n",
       "  }\n",
       "  th {\n",
       "    text-align: left;\n",
       "  }\n",
       "</style><div class='table-result-container'><table class='table-result'><thead style='background-color: white'><tr><th>pruid</th><th>prname</th><th>prnameFR</th><th>date</th><th>reporting_week</th><th>reporting_year</th><th>update</th><th>totalcases</th><th>numtotal_last7</th><th>ratecases_total</th><th>numdeaths</th><th>numdeaths_last7</th><th>ratedeaths</th><th>ratecases_last7</th><th>ratedeaths_last7</th><th>numtotal_last14</th><th>numdeaths_last14</th><th>ratetotal_last14</th><th>ratedeaths_last14</th><th>avgcases_last7</th><th>avgincidence_last7</th><th>avgdeaths_last7</th><th>avgratedeaths_last7</th></tr></thead><tbody><tr><td>12</td><td>Nova Scotia</td><td>Nouvelle-Écosse</td><td>2020-03-07</td><td>10</td><td>2020</td><td>1</td><td>0</td><td>0</td><td>0.0</td><td>0</td><td>0</td><td>0.0</td><td>0.0</td><td>0.0</td><td>0</td><td>0</td><td>0.0</td><td>0.0</td><td>0</td><td>0</td><td>0</td><td>0</td></tr><tr><td>12</td><td>Nova Scotia</td><td>Nouvelle-Écosse</td><td>2020-05-16</td><td>20</td><td>2020</td><td>1</td><td>1036</td><td>27</td><td>97.86</td><td>53</td><td>8</td><td>5.01</td><td>2.55</td><td>0.76</td><td>76</td><td>19</td><td>7.18</td><td>1.79</td><td>3</td><td>0</td><td>1</td><td>0</td></tr><tr><td>62</td><td>Nunavut</td><td>Nunavut</td><td>2020-05-23</td><td>21</td><td>2020</td><td>1</td><td>0</td><td>0</td><td>0.0</td><td>0</td><td>0</td><td>0.0</td><td>0.0</td><td>0.0</td><td>0</td><td>0</td><td>0.0</td><td>0.0</td><td>0</td><td>0</td><td>0</td><td>0</td></tr><tr><td>48</td><td>Alberta</td><td>Alberta</td><td>2020-09-19</td><td>38</td><td>2020</td><td>1</td><td>16576</td><td>994</td><td>353.03</td><td>253</td><td>1</td><td>5.39</td><td>21.17</td><td>0.02</td><td>1882</td><td>9</td><td>40.08</td><td>0.19</td><td>142</td><td>3</td><td>0</td><td>0</td></tr><tr><td>1</td><td>Canada</td><td>Canada</td><td>2021-03-06</td><td>9</td><td>2021</td><td>0</td><td>880559</td><td>20509</td><td>2196.03</td><td>21848</td><td>226</td><td>54.49</td><td>51.15</td><td>0.56</td><td>41280</td><td>479</td><td>102.95</td><td>1.19</td><td>2929</td><td>7</td><td>32</td><td>0</td></tr></tbody></table></div>"
      ]
     },
     "metadata": {
      "application/vnd.databricks.v1+output": {
       "addedWidgets": {},
       "aggData": [],
       "aggError": "",
       "aggOverflow": false,
       "aggSchema": [],
       "aggSeriesLimitReached": false,
       "aggType": "",
       "arguments": {},
       "columnCustomDisplayInfos": {},
       "data": [
        [
         12,
         "Nova Scotia",
         "Nouvelle-Écosse",
         "2020-03-07",
         10,
         2020,
         1,
         0,
         0,
         0.0,
         0,
         0,
         0.0,
         0.0,
         0.0,
         0,
         0,
         0.0,
         0.0,
         0,
         0,
         0,
         0
        ],
        [
         12,
         "Nova Scotia",
         "Nouvelle-Écosse",
         "2020-05-16",
         20,
         2020,
         1,
         1036,
         27,
         97.86,
         53,
         8,
         5.01,
         2.55,
         0.76,
         76,
         19,
         7.18,
         1.79,
         3,
         0,
         1,
         0
        ],
        [
         62,
         "Nunavut",
         "Nunavut",
         "2020-05-23",
         21,
         2020,
         1,
         0,
         0,
         0.0,
         0,
         0,
         0.0,
         0.0,
         0.0,
         0,
         0,
         0.0,
         0.0,
         0,
         0,
         0,
         0
        ],
        [
         48,
         "Alberta",
         "Alberta",
         "2020-09-19",
         38,
         2020,
         1,
         16576,
         994,
         353.03,
         253,
         1,
         5.39,
         21.17,
         0.02,
         1882,
         9,
         40.08,
         0.19,
         142,
         3,
         0,
         0
        ],
        [
         1,
         "Canada",
         "Canada",
         "2021-03-06",
         9,
         2021,
         0,
         880559,
         20509,
         2196.03,
         21848,
         226,
         54.49,
         51.15,
         0.56,
         41280,
         479,
         102.95,
         1.19,
         2929,
         7,
         32,
         0
        ]
       ],
       "datasetInfos": [],
       "dbfsResultPath": null,
       "isJsonSchema": true,
       "metadata": {},
       "overflow": false,
       "plotOptions": {
        "customPlotOptions": {},
        "displayType": "table",
        "pivotAggregation": null,
        "pivotColumns": null,
        "xColumns": null,
        "yColumns": null
       },
       "removedWidgets": [],
       "schema": [
        {
         "metadata": "{}",
         "name": "pruid",
         "type": "\"integer\""
        },
        {
         "metadata": "{}",
         "name": "prname",
         "type": "\"string\""
        },
        {
         "metadata": "{}",
         "name": "prnameFR",
         "type": "\"string\""
        },
        {
         "metadata": "{}",
         "name": "date",
         "type": "\"date\""
        },
        {
         "metadata": "{}",
         "name": "reporting_week",
         "type": "\"integer\""
        },
        {
         "metadata": "{}",
         "name": "reporting_year",
         "type": "\"integer\""
        },
        {
         "metadata": "{}",
         "name": "update",
         "type": "\"integer\""
        },
        {
         "metadata": "{}",
         "name": "totalcases",
         "type": "\"integer\""
        },
        {
         "metadata": "{}",
         "name": "numtotal_last7",
         "type": "\"integer\""
        },
        {
         "metadata": "{}",
         "name": "ratecases_total",
         "type": "\"double\""
        },
        {
         "metadata": "{}",
         "name": "numdeaths",
         "type": "\"integer\""
        },
        {
         "metadata": "{}",
         "name": "numdeaths_last7",
         "type": "\"integer\""
        },
        {
         "metadata": "{}",
         "name": "ratedeaths",
         "type": "\"double\""
        },
        {
         "metadata": "{}",
         "name": "ratecases_last7",
         "type": "\"double\""
        },
        {
         "metadata": "{}",
         "name": "ratedeaths_last7",
         "type": "\"double\""
        },
        {
         "metadata": "{}",
         "name": "numtotal_last14",
         "type": "\"integer\""
        },
        {
         "metadata": "{}",
         "name": "numdeaths_last14",
         "type": "\"integer\""
        },
        {
         "metadata": "{}",
         "name": "ratetotal_last14",
         "type": "\"double\""
        },
        {
         "metadata": "{}",
         "name": "ratedeaths_last14",
         "type": "\"double\""
        },
        {
         "metadata": "{}",
         "name": "avgcases_last7",
         "type": "\"integer\""
        },
        {
         "metadata": "{}",
         "name": "avgincidence_last7",
         "type": "\"integer\""
        },
        {
         "metadata": "{}",
         "name": "avgdeaths_last7",
         "type": "\"integer\""
        },
        {
         "metadata": "{}",
         "name": "avgratedeaths_last7",
         "type": "\"integer\""
        }
       ],
       "type": "table"
      }
     },
     "output_type": "display_data"
    }
   ],
   "source": [
    "death_clean.printSchema()\n",
    "print(\"Rows in death_clean:\", death_clean.count())\n",
    "display(death_clean.limit(5))\n"
   ]
  },
  {
   "cell_type": "markdown",
   "metadata": {
    "application/vnd.databricks.v1+cell": {
     "cellMetadata": {
      "byteLimit": 2048000,
      "rowLimit": 10000
     },
     "inputWidgets": {},
     "nuid": "a3ed3c71-85b4-4223-83ca-689770f91acd",
     "showTitle": false,
     "tableResultSettingsMap": {},
     "title": ""
    }
   },
   "source": [
    "### 3.1 Columns to Keep\n",
    "\n",
    "We will keep:\n",
    "\n",
    "- `pruid`\n",
    "- `prename`\n",
    "- `report_date`\n",
    "- `as_of_date`\n",
    "- `numtotal_all_administered`\n",
    "- `numtotal_dose1_administered`\n",
    "- `numtotal_dose2_administered`\n",
    "- `numtotal_dose3_administered`\n",
    "- `numtotal_dose4_administered`\n",
    "- `updated`\n"
   ]
  },
  {
   "cell_type": "code",
   "execution_count": 0,
   "metadata": {
    "application/vnd.databricks.v1+cell": {
     "cellMetadata": {
      "byteLimit": 2048000,
      "rowLimit": 10000
     },
     "inputWidgets": {},
     "nuid": "21c87a67-7065-464e-b265-e9532b1fc676",
     "showTitle": false,
     "tableResultSettingsMap": {},
     "title": ""
    }
   },
   "outputs": [
    {
     "output_type": "stream",
     "name": "stdout",
     "output_type": "stream",
     "text": [
      "root\n |-- pruid: integer (nullable = true)\n |-- prename: string (nullable = true)\n |-- report_date: date (nullable = true)\n |-- as_of_date: date (nullable = true)\n |-- numtotal_all_administered: integer (nullable = true)\n |-- numtotal_dose1_administered: string (nullable = true)\n |-- numtotal_dose2_administered: string (nullable = true)\n |-- numtotal_dose3_administered: string (nullable = true)\n |-- numtotal_dose4_administered: integer (nullable = true)\n |-- updated: integer (nullable = true)\n\n"
     ]
    },
    {
     "output_type": "display_data",
     "data": {
      "text/html": [
       "<style scoped>\n",
       "  .table-result-container {\n",
       "    max-height: 300px;\n",
       "    overflow: auto;\n",
       "  }\n",
       "  table, th, td {\n",
       "    border: 1px solid black;\n",
       "    border-collapse: collapse;\n",
       "  }\n",
       "  th, td {\n",
       "    padding: 5px;\n",
       "  }\n",
       "  th {\n",
       "    text-align: left;\n",
       "  }\n",
       "</style><div class='table-result-container'><table class='table-result'><thead style='background-color: white'><tr><th>pruid</th><th>prename</th><th>report_date</th><th>as_of_date</th><th>numtotal_all_administered</th><th>numtotal_dose1_administered</th><th>numtotal_dose2_administered</th><th>numtotal_dose3_administered</th><th>numtotal_dose4_administered</th><th>updated</th></tr></thead><tbody><tr><td>24</td><td>Quebec</td><td>2021-01-19</td><td>2021-01-18</td><td>164053</td><td>null</td><td>null</td><td>null</td><td>null</td><td>1</td></tr><tr><td>35</td><td>Ontario</td><td>2021-01-19</td><td>2021-01-18</td><td>262992</td><td>246799</td><td>16193</td><td>0</td><td>0</td><td>1</td></tr><tr><td>59</td><td>British Columbia</td><td>2021-01-19</td><td>2021-01-19</td><td>92369</td><td>null</td><td>null</td><td>null</td><td>null</td><td>1</td></tr><tr><td>48</td><td>Alberta</td><td>2021-01-19</td><td>2021-01-18</td><td>92315</td><td>null</td><td>null</td><td>null</td><td>null</td><td>1</td></tr><tr><td>47</td><td>Saskatchewan</td><td>2021-01-19</td><td>2021-01-18</td><td>24575</td><td>null</td><td>null</td><td>null</td><td>null</td><td>1</td></tr></tbody></table></div>"
      ]
     },
     "metadata": {
      "application/vnd.databricks.v1+output": {
       "addedWidgets": {},
       "aggData": [],
       "aggError": "",
       "aggOverflow": false,
       "aggSchema": [],
       "aggSeriesLimitReached": false,
       "aggType": "",
       "arguments": {},
       "columnCustomDisplayInfos": {},
       "data": [
        [
         24,
         "Quebec",
         "2021-01-19",
         "2021-01-18",
         164053,
         null,
         null,
         null,
         null,
         1
        ],
        [
         35,
         "Ontario",
         "2021-01-19",
         "2021-01-18",
         262992,
         "246799",
         "16193",
         "0",
         0,
         1
        ],
        [
         59,
         "British Columbia",
         "2021-01-19",
         "2021-01-19",
         92369,
         null,
         null,
         null,
         null,
         1
        ],
        [
         48,
         "Alberta",
         "2021-01-19",
         "2021-01-18",
         92315,
         null,
         null,
         null,
         null,
         1
        ],
        [
         47,
         "Saskatchewan",
         "2021-01-19",
         "2021-01-18",
         24575,
         null,
         null,
         null,
         null,
         1
        ]
       ],
       "datasetInfos": [],
       "dbfsResultPath": null,
       "isJsonSchema": true,
       "metadata": {},
       "overflow": false,
       "plotOptions": {
        "customPlotOptions": {},
        "displayType": "table",
        "pivotAggregation": null,
        "pivotColumns": null,
        "xColumns": null,
        "yColumns": null
       },
       "removedWidgets": [],
       "schema": [
        {
         "metadata": "{}",
         "name": "pruid",
         "type": "\"integer\""
        },
        {
         "metadata": "{}",
         "name": "prename",
         "type": "\"string\""
        },
        {
         "metadata": "{\"__detected_date_formats\":\"yyyy-M-d\"}",
         "name": "report_date",
         "type": "\"date\""
        },
        {
         "metadata": "{\"__detected_date_formats\":\"yyyy-M-d\"}",
         "name": "as_of_date",
         "type": "\"date\""
        },
        {
         "metadata": "{}",
         "name": "numtotal_all_administered",
         "type": "\"integer\""
        },
        {
         "metadata": "{}",
         "name": "numtotal_dose1_administered",
         "type": "\"string\""
        },
        {
         "metadata": "{}",
         "name": "numtotal_dose2_administered",
         "type": "\"string\""
        },
        {
         "metadata": "{}",
         "name": "numtotal_dose3_administered",
         "type": "\"string\""
        },
        {
         "metadata": "{}",
         "name": "numtotal_dose4_administered",
         "type": "\"integer\""
        },
        {
         "metadata": "{}",
         "name": "updated",
         "type": "\"integer\""
        }
       ],
       "type": "table"
      }
     },
     "output_type": "display_data"
    },
    {
     "output_type": "execute_result",
     "data": {
      "text/plain": [
       "13230"
      ]
     },
     "execution_count": 155,
     "metadata": {},
     "output_type": "execute_result"
    }
   ],
   "source": [
    "# 3.1: Select desired columns from raw `vaccination`\n",
    "cols_keep_vacc = [\n",
    "    \"pruid\",\n",
    "    \"prename\",\n",
    "    \"report_date\",\n",
    "    \"as_of_date\",\n",
    "    \"numtotal_all_administered\",\n",
    "    \"numtotal_dose1_administered\",\n",
    "    \"numtotal_dose2_administered\",\n",
    "    \"numtotal_dose3_administered\",\n",
    "    \"numtotal_dose4_administered\",\n",
    "    \"updated\"\n",
    "]\n",
    "\n",
    "vacc_trimmed = vaccination.select(*cols_keep_vacc)\n",
    "\n",
    "# 3.2: Inspect schema and sample\n",
    "vacc_trimmed.printSchema()\n",
    "display(vacc_trimmed.limit(5))\n",
    "vacc_trimmed.count()\n"
   ]
  },
  {
   "cell_type": "markdown",
   "metadata": {
    "application/vnd.databricks.v1+cell": {
     "cellMetadata": {
      "byteLimit": 2048000,
      "rowLimit": 10000
     },
     "inputWidgets": {},
     "nuid": "717992c5-504f-46e9-8345-c32937610a53",
     "showTitle": false,
     "tableResultSettingsMap": {},
     "title": ""
    }
   },
   "source": [
    "### 3.3 Replace `\"-\"` or blank with `null`, then cast to correct types\n",
    "\n",
    "- Integer fields:  \n",
    "  `pruid`, `numtotal_all_administered`, `numtotal_dose1_administered`, `numtotal_dose2_administered`, `numtotal_dose3_administered`, `numtotal_dose4_administered`, `updated`  \n",
    "- Date fields:  \n",
    "  `report_date`, `as_of_date` (format `yyyy-MM-dd`)  \n",
    "- Keep `prename` as string  \n"
   ]
  },
  {
   "cell_type": "code",
   "execution_count": 0,
   "metadata": {
    "application/vnd.databricks.v1+cell": {
     "cellMetadata": {
      "byteLimit": 2048000,
      "rowLimit": 10000
     },
     "inputWidgets": {},
     "nuid": "e922203f-8434-468a-9a80-0ed70797efde",
     "showTitle": false,
     "tableResultSettingsMap": {},
     "title": ""
    }
   },
   "outputs": [],
   "source": [
    "# 3.3.1: Replace \"-\" or blank strings with null\n",
    "tmp2 = vacc_trimmed\n",
    "for c in [\n",
    "    \"pruid\",\n",
    "    \"numtotal_all_administered\",\n",
    "    \"numtotal_dose1_administered\",\n",
    "    \"numtotal_dose2_administered\",\n",
    "    \"numtotal_dose3_administered\",\n",
    "    \"numtotal_dose4_administered\",\n",
    "    \"updated\"\n",
    "]:\n",
    "    tmp2 = tmp2.withColumn(\n",
    "        c,\n",
    "        when((trim(col(c)) == \"\") | (col(c) == \"-\"), None).otherwise(col(c))\n",
    "    )\n",
    "\n",
    "# 3.3.2: Cast to correct types\n",
    "vacc_cast = tmp2 \\\n",
    "    .withColumn(\"pruid\", col(\"pruid\").cast(IntegerType())) \\\n",
    "    .withColumn(\"numtotal_all_administered\", col(\"numtotal_all_administered\").cast(IntegerType())) \\\n",
    "    .withColumn(\"numtotal_dose1_administered\", col(\"numtotal_dose1_administered\").cast(IntegerType())) \\\n",
    "    .withColumn(\"numtotal_dose2_administered\", col(\"numtotal_dose2_administered\").cast(IntegerType())) \\\n",
    "    .withColumn(\"numtotal_dose3_administered\", col(\"numtotal_dose3_administered\").cast(IntegerType())) \\\n",
    "    .withColumn(\"numtotal_dose4_administered\", col(\"numtotal_dose4_administered\").cast(IntegerType())) \\\n",
    "    .withColumn(\"updated\", col(\"updated\").cast(IntegerType())) \\\n",
    "    .withColumn(\"report_date\", to_date(col(\"report_date\"), \"yyyy-MM-dd\")) \\\n",
    "    .withColumn(\"as_of_date\", to_date(col(\"as_of_date\"), \"yyyy-MM-dd\"))\n"
   ]
  },
  {
   "cell_type": "code",
   "execution_count": 0,
   "metadata": {
    "application/vnd.databricks.v1+cell": {
     "cellMetadata": {
      "byteLimit": 2048000,
      "rowLimit": 10000
     },
     "inputWidgets": {},
     "nuid": "6133465a-0cb8-4714-a919-6946fccf075c",
     "showTitle": false,
     "tableResultSettingsMap": {},
     "title": ""
    }
   },
   "outputs": [
    {
     "output_type": "stream",
     "name": "stdout",
     "output_type": "stream",
     "text": [
      "root\n |-- pruid: integer (nullable = true)\n |-- prename: string (nullable = true)\n |-- report_date: date (nullable = true)\n |-- as_of_date: date (nullable = true)\n |-- numtotal_all_administered: integer (nullable = true)\n |-- numtotal_dose1_administered: integer (nullable = true)\n |-- numtotal_dose2_administered: integer (nullable = true)\n |-- numtotal_dose3_administered: integer (nullable = true)\n |-- numtotal_dose4_administered: integer (nullable = true)\n |-- updated: integer (nullable = true)\n\n"
     ]
    },
    {
     "output_type": "display_data",
     "data": {
      "text/html": [
       "<style scoped>\n",
       "  .table-result-container {\n",
       "    max-height: 300px;\n",
       "    overflow: auto;\n",
       "  }\n",
       "  table, th, td {\n",
       "    border: 1px solid black;\n",
       "    border-collapse: collapse;\n",
       "  }\n",
       "  th, td {\n",
       "    padding: 5px;\n",
       "  }\n",
       "  th {\n",
       "    text-align: left;\n",
       "  }\n",
       "</style><div class='table-result-container'><table class='table-result'><thead style='background-color: white'><tr><th>pruid</th><th>prename</th><th>report_date</th><th>as_of_date</th><th>numtotal_all_administered</th><th>numtotal_dose1_administered</th><th>numtotal_dose2_administered</th><th>numtotal_dose3_administered</th><th>numtotal_dose4_administered</th><th>updated</th></tr></thead><tbody><tr><td>24</td><td>Quebec</td><td>2021-01-19</td><td>2021-01-18</td><td>164053</td><td>null</td><td>null</td><td>null</td><td>null</td><td>1</td></tr><tr><td>35</td><td>Ontario</td><td>2021-01-19</td><td>2021-01-18</td><td>262992</td><td>246799</td><td>16193</td><td>0</td><td>0</td><td>1</td></tr><tr><td>59</td><td>British Columbia</td><td>2021-01-19</td><td>2021-01-19</td><td>92369</td><td>null</td><td>null</td><td>null</td><td>null</td><td>1</td></tr><tr><td>48</td><td>Alberta</td><td>2021-01-19</td><td>2021-01-18</td><td>92315</td><td>null</td><td>null</td><td>null</td><td>null</td><td>1</td></tr><tr><td>47</td><td>Saskatchewan</td><td>2021-01-19</td><td>2021-01-18</td><td>24575</td><td>null</td><td>null</td><td>null</td><td>null</td><td>1</td></tr></tbody></table></div>"
      ]
     },
     "metadata": {
      "application/vnd.databricks.v1+output": {
       "addedWidgets": {},
       "aggData": [],
       "aggError": "",
       "aggOverflow": false,
       "aggSchema": [],
       "aggSeriesLimitReached": false,
       "aggType": "",
       "arguments": {},
       "columnCustomDisplayInfos": {},
       "data": [
        [
         24,
         "Quebec",
         "2021-01-19",
         "2021-01-18",
         164053,
         null,
         null,
         null,
         null,
         1
        ],
        [
         35,
         "Ontario",
         "2021-01-19",
         "2021-01-18",
         262992,
         246799,
         16193,
         0,
         0,
         1
        ],
        [
         59,
         "British Columbia",
         "2021-01-19",
         "2021-01-19",
         92369,
         null,
         null,
         null,
         null,
         1
        ],
        [
         48,
         "Alberta",
         "2021-01-19",
         "2021-01-18",
         92315,
         null,
         null,
         null,
         null,
         1
        ],
        [
         47,
         "Saskatchewan",
         "2021-01-19",
         "2021-01-18",
         24575,
         null,
         null,
         null,
         null,
         1
        ]
       ],
       "datasetInfos": [],
       "dbfsResultPath": null,
       "isJsonSchema": true,
       "metadata": {},
       "overflow": false,
       "plotOptions": {
        "customPlotOptions": {},
        "displayType": "table",
        "pivotAggregation": null,
        "pivotColumns": null,
        "xColumns": null,
        "yColumns": null
       },
       "removedWidgets": [],
       "schema": [
        {
         "metadata": "{}",
         "name": "pruid",
         "type": "\"integer\""
        },
        {
         "metadata": "{}",
         "name": "prename",
         "type": "\"string\""
        },
        {
         "metadata": "{}",
         "name": "report_date",
         "type": "\"date\""
        },
        {
         "metadata": "{}",
         "name": "as_of_date",
         "type": "\"date\""
        },
        {
         "metadata": "{}",
         "name": "numtotal_all_administered",
         "type": "\"integer\""
        },
        {
         "metadata": "{}",
         "name": "numtotal_dose1_administered",
         "type": "\"integer\""
        },
        {
         "metadata": "{}",
         "name": "numtotal_dose2_administered",
         "type": "\"integer\""
        },
        {
         "metadata": "{}",
         "name": "numtotal_dose3_administered",
         "type": "\"integer\""
        },
        {
         "metadata": "{}",
         "name": "numtotal_dose4_administered",
         "type": "\"integer\""
        },
        {
         "metadata": "{}",
         "name": "updated",
         "type": "\"integer\""
        }
       ],
       "type": "table"
      }
     },
     "output_type": "display_data"
    },
    {
     "output_type": "execute_result",
     "data": {
      "text/plain": [
       "13230"
      ]
     },
     "execution_count": 157,
     "metadata": {},
     "output_type": "execute_result"
    }
   ],
   "source": [
    "vacc_cast.printSchema()\n",
    "display(vacc_cast.limit(5))\n",
    "vacc_cast.count()"
   ]
  },
  {
   "cell_type": "markdown",
   "metadata": {
    "application/vnd.databricks.v1+cell": {
     "cellMetadata": {
      "byteLimit": 2048000,
      "rowLimit": 10000
     },
     "inputWidgets": {},
     "nuid": "019c7777-71ce-4fd7-af28-b0fe3db324b4",
     "showTitle": false,
     "tableResultSettingsMap": {},
     "title": ""
    }
   },
   "source": [
    "### 3.4 Handle Missing Data\n",
    "\n",
    "- Drop rows missing `pruid`, `report_date`, or `numtotal_all_administered`.  \n",
    "- For dose columns and `updated`, fill null → 0.\n"
   ]
  },
  {
   "cell_type": "code",
   "execution_count": 0,
   "metadata": {
    "application/vnd.databricks.v1+cell": {
     "cellMetadata": {
      "byteLimit": 2048000,
      "rowLimit": 10000
     },
     "inputWidgets": {},
     "nuid": "927737f4-4e42-426a-9ed4-ac079a1ab486",
     "showTitle": false,
     "tableResultSettingsMap": {},
     "title": ""
    }
   },
   "outputs": [],
   "source": [
    "# 3.4.1: Drop rows missing mandatory fields\n",
    "vacc_nonull = vacc_cast.na.drop(subset=[\"pruid\", \"report_date\", \"numtotal_all_administered\"])\n",
    "\n",
    "# 3.4.2: Fill nulls for doses and updated\n",
    "vacc_filled = vacc_nonull.fillna({\n",
    "    \"numtotal_dose1_administered\": 0,\n",
    "    \"numtotal_dose2_administered\": 0,\n",
    "    \"numtotal_dose3_administered\": 0,\n",
    "    \"numtotal_dose4_administered\": 0,\n",
    "    \"updated\": 0\n",
    "})\n"
   ]
  },
  {
   "cell_type": "markdown",
   "metadata": {
    "application/vnd.databricks.v1+cell": {
     "cellMetadata": {
      "byteLimit": 2048000,
      "rowLimit": 10000
     },
     "inputWidgets": {},
     "nuid": "9d49c6b9-ad46-43ee-a5db-c137c161b182",
     "showTitle": false,
     "tableResultSettingsMap": {},
     "title": ""
    }
   },
   "source": [
    "### 3.5 Filter Out Inconsistent Rows\n",
    "\n",
    "If `(dose1 + dose2 + dose3 + dose4) > numtotal_all_administered`, drop them. Then compute `numtotal_other_or_unreported = numtotal_all_administered - sum(dose1..dose4)`.\n"
   ]
  },
  {
   "cell_type": "code",
   "execution_count": 0,
   "metadata": {
    "application/vnd.databricks.v1+cell": {
     "cellMetadata": {
      "byteLimit": 2048000,
      "rowLimit": 10000
     },
     "inputWidgets": {},
     "nuid": "60db86f1-1254-401b-bd23-0b02d169e6cc",
     "showTitle": false,
     "tableResultSettingsMap": {},
     "title": ""
    }
   },
   "outputs": [],
   "source": [
    "from pyspark.sql.functions import expr\n",
    "\n",
    "# 3.5.1: Compute sum of dose1–4\n",
    "vacc_with_sum = vacc_filled.withColumn(\n",
    "    \"sum_dose1_to_4\",\n",
    "    col(\"numtotal_dose1_administered\")\n",
    "  + col(\"numtotal_dose2_administered\")\n",
    "  + col(\"numtotal_dose3_administered\")\n",
    "  + col(\"numtotal_dose4_administered\")\n",
    ")\n",
    "\n",
    "# 3.5.2: Filter out bad rows\n",
    "vacc_valid = vacc_with_sum.filter(\n",
    "    col(\"sum_dose1_to_4\") <= col(\"numtotal_all_administered\")\n",
    ")\n",
    "\n",
    "# 3.5.3: Compute \"other/unreported\" column\n",
    "vacc_clean = vacc_valid.withColumn(\n",
    "    \"numtotal_other_or_unreported\",\n",
    "    col(\"numtotal_all_administered\") - col(\"sum_dose1_to_4\")\n",
    ")\n"
   ]
  },
  {
   "cell_type": "markdown",
   "metadata": {
    "application/vnd.databricks.v1+cell": {
     "cellMetadata": {
      "byteLimit": 2048000,
      "rowLimit": 10000
     },
     "inputWidgets": {},
     "nuid": "848d3117-fdbe-4242-974e-73a6aa51ea27",
     "showTitle": false,
     "tableResultSettingsMap": {},
     "title": ""
    }
   },
   "source": [
    "### 3.6 Remove Duplicates Based on Natural Key\n",
    "\n",
    "Natural key is `(pruid, report_date)`. Drop duplicates.\n"
   ]
  },
  {
   "cell_type": "code",
   "execution_count": 0,
   "metadata": {
    "application/vnd.databricks.v1+cell": {
     "cellMetadata": {
      "byteLimit": 2048000,
      "rowLimit": 10000
     },
     "inputWidgets": {},
     "nuid": "345f4ac1-d25a-4c9a-bda1-a7c98fc57c83",
     "showTitle": false,
     "tableResultSettingsMap": {},
     "title": ""
    }
   },
   "outputs": [],
   "source": [
    "vacc_clean = vacc_clean.dropDuplicates([\"pruid\", \"report_date\"])\n"
   ]
  },
  {
   "cell_type": "markdown",
   "metadata": {
    "application/vnd.databricks.v1+cell": {
     "cellMetadata": {
      "byteLimit": 2048000,
      "rowLimit": 10000
     },
     "inputWidgets": {},
     "nuid": "e89667e4-ae8d-4bc8-b240-7c82fe82cd37",
     "showTitle": false,
     "tableResultSettingsMap": {},
     "title": ""
    }
   },
   "source": [
    "### 3.7 Final Check\n",
    "\n",
    "Verify schema and row count in `vacc_clean`.\n"
   ]
  },
  {
   "cell_type": "code",
   "execution_count": 0,
   "metadata": {
    "application/vnd.databricks.v1+cell": {
     "cellMetadata": {
      "byteLimit": 2048000,
      "rowLimit": 10000
     },
     "inputWidgets": {},
     "nuid": "4a8a86cf-6512-4de3-a398-a4df3e22f161",
     "showTitle": false,
     "tableResultSettingsMap": {},
     "title": ""
    }
   },
   "outputs": [
    {
     "output_type": "stream",
     "name": "stdout",
     "output_type": "stream",
     "text": [
      "root\n |-- pruid: integer (nullable = true)\n |-- prename: string (nullable = true)\n |-- report_date: date (nullable = true)\n |-- as_of_date: date (nullable = true)\n |-- numtotal_all_administered: integer (nullable = true)\n |-- numtotal_dose1_administered: integer (nullable = false)\n |-- numtotal_dose2_administered: integer (nullable = false)\n |-- numtotal_dose3_administered: integer (nullable = false)\n |-- numtotal_dose4_administered: integer (nullable = false)\n |-- updated: integer (nullable = false)\n |-- sum_dose1_to_4: integer (nullable = false)\n |-- numtotal_other_or_unreported: integer (nullable = true)\n\nRows in vacc_clean: 13154\n"
     ]
    },
    {
     "output_type": "display_data",
     "data": {
      "text/html": [
       "<style scoped>\n",
       "  .table-result-container {\n",
       "    max-height: 300px;\n",
       "    overflow: auto;\n",
       "  }\n",
       "  table, th, td {\n",
       "    border: 1px solid black;\n",
       "    border-collapse: collapse;\n",
       "  }\n",
       "  th, td {\n",
       "    padding: 5px;\n",
       "  }\n",
       "  th {\n",
       "    text-align: left;\n",
       "  }\n",
       "</style><div class='table-result-container'><table class='table-result'><thead style='background-color: white'><tr><th>pruid</th><th>prename</th><th>report_date</th><th>as_of_date</th><th>numtotal_all_administered</th><th>numtotal_dose1_administered</th><th>numtotal_dose2_administered</th><th>numtotal_dose3_administered</th><th>numtotal_dose4_administered</th><th>updated</th><th>sum_dose1_to_4</th><th>numtotal_other_or_unreported</th></tr></thead><tbody><tr><td>62</td><td>Nunavut</td><td>2021-01-25</td><td>2021-01-25</td><td>4458</td><td>0</td><td>0</td><td>0</td><td>0</td><td>1</td><td>0</td><td>4458</td></tr><tr><td>47</td><td>Saskatchewan</td><td>2021-01-26</td><td>2021-01-25</td><td>34080</td><td>0</td><td>0</td><td>0</td><td>0</td><td>1</td><td>0</td><td>34080</td></tr><tr><td>62</td><td>Nunavut</td><td>2021-03-09</td><td>2021-03-09</td><td>14943</td><td>0</td><td>0</td><td>0</td><td>0</td><td>1</td><td>0</td><td>14943</td></tr><tr><td>12</td><td>Nova Scotia</td><td>2021-03-15</td><td>2021-03-14</td><td>48077</td><td>0</td><td>0</td><td>0</td><td>0</td><td>1</td><td>0</td><td>48077</td></tr><tr><td>24</td><td>Quebec</td><td>2021-03-24</td><td>2021-03-23</td><td>1024713</td><td>0</td><td>0</td><td>0</td><td>0</td><td>1</td><td>0</td><td>1024713</td></tr></tbody></table></div>"
      ]
     },
     "metadata": {
      "application/vnd.databricks.v1+output": {
       "addedWidgets": {},
       "aggData": [],
       "aggError": "",
       "aggOverflow": false,
       "aggSchema": [],
       "aggSeriesLimitReached": false,
       "aggType": "",
       "arguments": {},
       "columnCustomDisplayInfos": {},
       "data": [
        [
         62,
         "Nunavut",
         "2021-01-25",
         "2021-01-25",
         4458,
         0,
         0,
         0,
         0,
         1,
         0,
         4458
        ],
        [
         47,
         "Saskatchewan",
         "2021-01-26",
         "2021-01-25",
         34080,
         0,
         0,
         0,
         0,
         1,
         0,
         34080
        ],
        [
         62,
         "Nunavut",
         "2021-03-09",
         "2021-03-09",
         14943,
         0,
         0,
         0,
         0,
         1,
         0,
         14943
        ],
        [
         12,
         "Nova Scotia",
         "2021-03-15",
         "2021-03-14",
         48077,
         0,
         0,
         0,
         0,
         1,
         0,
         48077
        ],
        [
         24,
         "Quebec",
         "2021-03-24",
         "2021-03-23",
         1024713,
         0,
         0,
         0,
         0,
         1,
         0,
         1024713
        ]
       ],
       "datasetInfos": [],
       "dbfsResultPath": null,
       "isJsonSchema": true,
       "metadata": {},
       "overflow": false,
       "plotOptions": {
        "customPlotOptions": {},
        "displayType": "table",
        "pivotAggregation": null,
        "pivotColumns": null,
        "xColumns": null,
        "yColumns": null
       },
       "removedWidgets": [],
       "schema": [
        {
         "metadata": "{}",
         "name": "pruid",
         "type": "\"integer\""
        },
        {
         "metadata": "{}",
         "name": "prename",
         "type": "\"string\""
        },
        {
         "metadata": "{}",
         "name": "report_date",
         "type": "\"date\""
        },
        {
         "metadata": "{}",
         "name": "as_of_date",
         "type": "\"date\""
        },
        {
         "metadata": "{}",
         "name": "numtotal_all_administered",
         "type": "\"integer\""
        },
        {
         "metadata": "{}",
         "name": "numtotal_dose1_administered",
         "type": "\"integer\""
        },
        {
         "metadata": "{}",
         "name": "numtotal_dose2_administered",
         "type": "\"integer\""
        },
        {
         "metadata": "{}",
         "name": "numtotal_dose3_administered",
         "type": "\"integer\""
        },
        {
         "metadata": "{}",
         "name": "numtotal_dose4_administered",
         "type": "\"integer\""
        },
        {
         "metadata": "{}",
         "name": "updated",
         "type": "\"integer\""
        },
        {
         "metadata": "{}",
         "name": "sum_dose1_to_4",
         "type": "\"integer\""
        },
        {
         "metadata": "{}",
         "name": "numtotal_other_or_unreported",
         "type": "\"integer\""
        }
       ],
       "type": "table"
      }
     },
     "output_type": "display_data"
    }
   ],
   "source": [
    "vacc_clean.printSchema()\n",
    "print(\"Rows in vacc_clean:\", vacc_clean.count())\n",
    "display(vacc_clean.limit(5))\n"
   ]
  },
  {
   "cell_type": "markdown",
   "metadata": {
    "application/vnd.databricks.v1+cell": {
     "cellMetadata": {
      "byteLimit": 2048000,
      "rowLimit": 10000
     },
     "inputWidgets": {},
     "nuid": "07a0cdbc-d092-4a06-bbfe-d7526cc4fc52",
     "showTitle": false,
     "tableResultSettingsMap": {},
     "title": ""
    }
   },
   "source": [
    "### 4.1 Inspect Raw Data\n",
    "\n",
    "Check schema and first rows. We only need:\n",
    "\n",
    "- `REF_DATE` (format “YYYY-MM”)\n",
    "- `GEO`      (province name)\n",
    "- `VALUE`    (population number)\n"
   ]
  },
  {
   "cell_type": "code",
   "execution_count": 0,
   "metadata": {
    "application/vnd.databricks.v1+cell": {
     "cellMetadata": {
      "byteLimit": 2048000,
      "rowLimit": 10000
     },
     "inputWidgets": {},
     "nuid": "a1649c5f-e7d1-4087-8956-2c59d7efd9a8",
     "showTitle": false,
     "tableResultSettingsMap": {},
     "title": ""
    }
   },
   "outputs": [
    {
     "output_type": "display_data",
     "data": {
      "text/html": [
       "<style scoped>\n",
       "  .table-result-container {\n",
       "    max-height: 300px;\n",
       "    overflow: auto;\n",
       "  }\n",
       "  table, th, td {\n",
       "    border: 1px solid black;\n",
       "    border-collapse: collapse;\n",
       "  }\n",
       "  th, td {\n",
       "    padding: 5px;\n",
       "  }\n",
       "  th {\n",
       "    text-align: left;\n",
       "  }\n",
       "</style><div class='table-result-container'><table class='table-result'><thead style='background-color: white'><tr><th>REF_DATE</th><th>GEO</th><th>DGUID</th><th>UOM</th><th>UOM_ID</th><th>SCALAR_FACTOR</th><th>SCALAR_ID</th><th>VECTOR</th><th>COORDINATE</th><th>VALUE</th><th>STATUS</th><th>SYMBOL</th><th>TERMINATED</th><th>DECIMALS</th></tr></thead><tbody><tr><td>2018-01-01</td><td>Canada</td><td>2016A000011124</td><td>Persons</td><td>249</td><td>units</td><td>0</td><td>v1</td><td>1</td><td>36801579</td><td>null</td><td>null</td><td>null</td><td>0</td></tr><tr><td>2018-04-01</td><td>Canada</td><td>2016A000011124</td><td>Persons</td><td>249</td><td>units</td><td>0</td><td>v1</td><td>1</td><td>36903671</td><td>null</td><td>null</td><td>null</td><td>0</td></tr><tr><td>2018-07-01</td><td>Canada</td><td>2016A000011124</td><td>Persons</td><td>249</td><td>units</td><td>0</td><td>v1</td><td>1</td><td>37072620</td><td>null</td><td>null</td><td>null</td><td>0</td></tr><tr><td>2018-10-01</td><td>Canada</td><td>2016A000011124</td><td>Persons</td><td>249</td><td>units</td><td>0</td><td>v1</td><td>1</td><td>37259485</td><td>null</td><td>null</td><td>null</td><td>0</td></tr><tr><td>2019-01-01</td><td>Canada</td><td>2016A000011124</td><td>Persons</td><td>249</td><td>units</td><td>0</td><td>v1</td><td>1</td><td>37336956</td><td>null</td><td>null</td><td>null</td><td>0</td></tr></tbody></table></div>"
      ]
     },
     "metadata": {
      "application/vnd.databricks.v1+output": {
       "addedWidgets": {},
       "aggData": [],
       "aggError": "",
       "aggOverflow": false,
       "aggSchema": [],
       "aggSeriesLimitReached": false,
       "aggType": "",
       "arguments": {},
       "columnCustomDisplayInfos": {},
       "data": [
        [
         "2018-01-01",
         "Canada",
         "2016A000011124",
         "Persons",
         249,
         "units",
         0,
         "v1",
         1,
         36801579,
         null,
         null,
         null,
         0
        ],
        [
         "2018-04-01",
         "Canada",
         "2016A000011124",
         "Persons",
         249,
         "units",
         0,
         "v1",
         1,
         36903671,
         null,
         null,
         null,
         0
        ],
        [
         "2018-07-01",
         "Canada",
         "2016A000011124",
         "Persons",
         249,
         "units",
         0,
         "v1",
         1,
         37072620,
         null,
         null,
         null,
         0
        ],
        [
         "2018-10-01",
         "Canada",
         "2016A000011124",
         "Persons",
         249,
         "units",
         0,
         "v1",
         1,
         37259485,
         null,
         null,
         null,
         0
        ],
        [
         "2019-01-01",
         "Canada",
         "2016A000011124",
         "Persons",
         249,
         "units",
         0,
         "v1",
         1,
         37336956,
         null,
         null,
         null,
         0
        ]
       ],
       "datasetInfos": [],
       "dbfsResultPath": null,
       "isJsonSchema": true,
       "metadata": {},
       "overflow": false,
       "plotOptions": {
        "customPlotOptions": {},
        "displayType": "table",
        "pivotAggregation": null,
        "pivotColumns": null,
        "xColumns": null,
        "yColumns": null
       },
       "removedWidgets": [],
       "schema": [
        {
         "metadata": "{\"__detected_date_formats\":\"yyyy-M\"}",
         "name": "REF_DATE",
         "type": "\"date\""
        },
        {
         "metadata": "{}",
         "name": "GEO",
         "type": "\"string\""
        },
        {
         "metadata": "{}",
         "name": "DGUID",
         "type": "\"string\""
        },
        {
         "metadata": "{}",
         "name": "UOM",
         "type": "\"string\""
        },
        {
         "metadata": "{}",
         "name": "UOM_ID",
         "type": "\"integer\""
        },
        {
         "metadata": "{}",
         "name": "SCALAR_FACTOR",
         "type": "\"string\""
        },
        {
         "metadata": "{}",
         "name": "SCALAR_ID",
         "type": "\"integer\""
        },
        {
         "metadata": "{}",
         "name": "VECTOR",
         "type": "\"string\""
        },
        {
         "metadata": "{}",
         "name": "COORDINATE",
         "type": "\"integer\""
        },
        {
         "metadata": "{}",
         "name": "VALUE",
         "type": "\"integer\""
        },
        {
         "metadata": "{}",
         "name": "STATUS",
         "type": "\"string\""
        },
        {
         "metadata": "{}",
         "name": "SYMBOL",
         "type": "\"string\""
        },
        {
         "metadata": "{}",
         "name": "TERMINATED",
         "type": "\"string\""
        },
        {
         "metadata": "{}",
         "name": "DECIMALS",
         "type": "\"integer\""
        }
       ],
       "type": "table"
      }
     },
     "output_type": "display_data"
    }
   ],
   "source": [
    "display(provpop.limit(5))\n",
    "\n"
   ]
  },
  {
   "cell_type": "markdown",
   "metadata": {
    "application/vnd.databricks.v1+cell": {
     "cellMetadata": {
      "byteLimit": 2048000,
      "rowLimit": 10000
     },
     "inputWidgets": {},
     "nuid": "ccb72acf-a035-459d-a3a5-ccda60da75c8",
     "showTitle": false,
     "tableResultSettingsMap": {},
     "title": ""
    }
   },
   "source": [
    "## Step 4: Build **dim_province** (before joining population)\n",
    "\n",
    "We need a table `dim_province(pruid, prname)` with no French name.  \n",
    "We’ll union the `(pruid, prname)` pairs from `death_clean` and `vacc_clean`.\n"
   ]
  },
  {
   "cell_type": "code",
   "execution_count": 0,
   "metadata": {
    "application/vnd.databricks.v1+cell": {
     "cellMetadata": {
      "byteLimit": 2048000,
      "rowLimit": 10000
     },
     "inputWidgets": {},
     "nuid": "81bbe423-1ca2-4a5e-9252-cb7073faac75",
     "showTitle": false,
     "tableResultSettingsMap": {},
     "title": ""
    }
   },
   "outputs": [
    {
     "output_type": "stream",
     "name": "stdout",
     "output_type": "stream",
     "text": [
      "root\n |-- pruid: integer (nullable = true)\n |-- prname: string (nullable = true)\n\n"
     ]
    },
    {
     "output_type": "display_data",
     "data": {
      "text/html": [
       "<style scoped>\n",
       "  .table-result-container {\n",
       "    max-height: 300px;\n",
       "    overflow: auto;\n",
       "  }\n",
       "  table, th, td {\n",
       "    border: 1px solid black;\n",
       "    border-collapse: collapse;\n",
       "  }\n",
       "  th, td {\n",
       "    padding: 5px;\n",
       "  }\n",
       "  th {\n",
       "    text-align: left;\n",
       "  }\n",
       "</style><div class='table-result-container'><table class='table-result'><thead style='background-color: white'><tr><th>pruid</th><th>prname</th></tr></thead><tbody><tr><td>1</td><td>Canada</td></tr><tr><td>10</td><td>Newfoundland and Labrador</td></tr><tr><td>11</td><td>Prince Edward Island</td></tr><tr><td>12</td><td>Nova Scotia</td></tr><tr><td>13</td><td>New Brunswick</td></tr><tr><td>24</td><td>Quebec</td></tr><tr><td>35</td><td>Ontario</td></tr><tr><td>46</td><td>Manitoba</td></tr><tr><td>47</td><td>Saskatchewan</td></tr><tr><td>48</td><td>Alberta</td></tr></tbody></table></div>"
      ]
     },
     "metadata": {
      "application/vnd.databricks.v1+output": {
       "addedWidgets": {},
       "aggData": [],
       "aggError": "",
       "aggOverflow": false,
       "aggSchema": [],
       "aggSeriesLimitReached": false,
       "aggType": "",
       "arguments": {},
       "columnCustomDisplayInfos": {},
       "data": [
        [
         1,
         "Canada"
        ],
        [
         10,
         "Newfoundland and Labrador"
        ],
        [
         11,
         "Prince Edward Island"
        ],
        [
         12,
         "Nova Scotia"
        ],
        [
         13,
         "New Brunswick"
        ],
        [
         24,
         "Quebec"
        ],
        [
         35,
         "Ontario"
        ],
        [
         46,
         "Manitoba"
        ],
        [
         47,
         "Saskatchewan"
        ],
        [
         48,
         "Alberta"
        ]
       ],
       "datasetInfos": [],
       "dbfsResultPath": null,
       "isJsonSchema": true,
       "metadata": {},
       "overflow": false,
       "plotOptions": {
        "customPlotOptions": {},
        "displayType": "table",
        "pivotAggregation": null,
        "pivotColumns": null,
        "xColumns": null,
        "yColumns": null
       },
       "removedWidgets": [],
       "schema": [
        {
         "metadata": "{}",
         "name": "pruid",
         "type": "\"integer\""
        },
        {
         "metadata": "{}",
         "name": "prname",
         "type": "\"string\""
        }
       ],
       "type": "table"
      }
     },
     "output_type": "display_data"
    },
    {
     "output_type": "stream",
     "name": "stdout",
     "output_type": "stream",
     "text": [
      "Rows in dim_province: 15\n"
     ]
    }
   ],
   "source": [
    "# 4.1: Provinces from death_clean\n",
    "prov_from_death = death_clean.select(\n",
    "    col(\"pruid\"),\n",
    "    col(\"prname\")\n",
    ").distinct()\n",
    "\n",
    "# 4.2: Provinces from vacc_clean (rename prename → prname)\n",
    "prov_from_vacc = vacc_clean.select(\n",
    "    col(\"pruid\"),\n",
    "    col(\"prename\").alias(\"prname\")\n",
    ").distinct()\n",
    "\n",
    "# 4.3: Union and remove duplicates on pruid\n",
    "dim_province = prov_from_death.union(prov_from_vacc).dropDuplicates([\"pruid\"])\n",
    "\n",
    "# 4.4: Final check: schema and sample rows\n",
    "dim_province.printSchema()\n",
    "display(dim_province.orderBy(\"pruid\").limit(10))\n",
    "print(\"Rows in dim_province:\", dim_province.count())\n"
   ]
  },
  {
   "cell_type": "markdown",
   "metadata": {
    "application/vnd.databricks.v1+cell": {
     "cellMetadata": {
      "byteLimit": 2048000,
      "rowLimit": 10000
     },
     "inputWidgets": {},
     "nuid": "ebdb9e1f-54df-4d3b-bf80-b7623ed59a5d",
     "showTitle": false,
     "tableResultSettingsMap": {},
     "title": ""
    }
   },
   "source": [
    "## Step 5: Clean & Build **dim_population**\n",
    "\n",
    "Now that `dim_province(pruid, prname)` exists, we can join it to translated `provpop`.\n",
    "\n",
    "1. Convert `REF_DATE → PopDate` (first of month).\n",
    "2. Keep `(prname, PopDate, PopulationValue)`.\n",
    "3. Join to `dim_province` on `prname` to bring in `pruid`.\n",
    "4. Drop any rows missing keys.\n",
    "5. Remove duplicates on `(pruid, PopDate)`.\n"
   ]
  },
  {
   "cell_type": "code",
   "execution_count": 0,
   "metadata": {
    "application/vnd.databricks.v1+cell": {
     "cellMetadata": {
      "byteLimit": 2048000,
      "rowLimit": 10000
     },
     "inputWidgets": {},
     "nuid": "1ce35b08-ddb4-43e1-bf80-95e265fc78a8",
     "showTitle": false,
     "tableResultSettingsMap": {},
     "title": ""
    }
   },
   "outputs": [
    {
     "output_type": "stream",
     "name": "stdout",
     "output_type": "stream",
     "text": [
      "Distinct GEO in provpop:\n"
     ]
    },
    {
     "output_type": "display_data",
     "data": {
      "text/html": [
       "<style scoped>\n",
       "  .table-result-container {\n",
       "    max-height: 300px;\n",
       "    overflow: auto;\n",
       "  }\n",
       "  table, th, td {\n",
       "    border: 1px solid black;\n",
       "    border-collapse: collapse;\n",
       "  }\n",
       "  th, td {\n",
       "    padding: 5px;\n",
       "  }\n",
       "  th {\n",
       "    text-align: left;\n",
       "  }\n",
       "</style><div class='table-result-container'><table class='table-result'><thead style='background-color: white'><tr><th>GEO</th></tr></thead><tbody><tr><td>Alberta</td></tr><tr><td>British Columbia</td></tr><tr><td>Canada</td></tr><tr><td>Manitoba</td></tr><tr><td>New Brunswick</td></tr><tr><td>Newfoundland and Labrador</td></tr><tr><td>Northwest Territories</td></tr><tr><td>Nova Scotia</td></tr><tr><td>Nunavut</td></tr><tr><td>Ontario</td></tr><tr><td>Prince Edward Island</td></tr><tr><td>Quebec</td></tr><tr><td>Saskatchewan</td></tr><tr><td>Yukon</td></tr></tbody></table></div>"
      ]
     },
     "metadata": {
      "application/vnd.databricks.v1+output": {
       "addedWidgets": {},
       "aggData": [],
       "aggError": "",
       "aggOverflow": false,
       "aggSchema": [],
       "aggSeriesLimitReached": false,
       "aggType": "",
       "arguments": {},
       "columnCustomDisplayInfos": {},
       "data": [
        [
         "Alberta"
        ],
        [
         "British Columbia"
        ],
        [
         "Canada"
        ],
        [
         "Manitoba"
        ],
        [
         "New Brunswick"
        ],
        [
         "Newfoundland and Labrador"
        ],
        [
         "Northwest Territories"
        ],
        [
         "Nova Scotia"
        ],
        [
         "Nunavut"
        ],
        [
         "Ontario"
        ],
        [
         "Prince Edward Island"
        ],
        [
         "Quebec"
        ],
        [
         "Saskatchewan"
        ],
        [
         "Yukon"
        ]
       ],
       "datasetInfos": [],
       "dbfsResultPath": null,
       "isJsonSchema": true,
       "metadata": {},
       "overflow": false,
       "plotOptions": {
        "customPlotOptions": {},
        "displayType": "table",
        "pivotAggregation": null,
        "pivotColumns": null,
        "xColumns": null,
        "yColumns": null
       },
       "removedWidgets": [],
       "schema": [
        {
         "metadata": "{}",
         "name": "GEO",
         "type": "\"string\""
        }
       ],
       "type": "table"
      }
     },
     "output_type": "display_data"
    },
    {
     "output_type": "stream",
     "name": "stdout",
     "output_type": "stream",
     "text": [
      "Distinct prname in dim_province:\n"
     ]
    },
    {
     "output_type": "display_data",
     "data": {
      "text/html": [
       "<style scoped>\n",
       "  .table-result-container {\n",
       "    max-height: 300px;\n",
       "    overflow: auto;\n",
       "  }\n",
       "  table, th, td {\n",
       "    border: 1px solid black;\n",
       "    border-collapse: collapse;\n",
       "  }\n",
       "  th, td {\n",
       "    padding: 5px;\n",
       "  }\n",
       "  th {\n",
       "    text-align: left;\n",
       "  }\n",
       "</style><div class='table-result-container'><table class='table-result'><thead style='background-color: white'><tr><th>prname</th></tr></thead><tbody><tr><td>Alberta</td></tr><tr><td>British Columbia</td></tr><tr><td>Canada</td></tr><tr><td>Manitoba</td></tr><tr><td>New Brunswick</td></tr><tr><td>Newfoundland and Labrador</td></tr><tr><td>Northwest Territories</td></tr><tr><td>Nova Scotia</td></tr><tr><td>Nunavut</td></tr><tr><td>Ontario</td></tr><tr><td>Prince Edward Island</td></tr><tr><td>Quebec</td></tr><tr><td>Repatriated travellers</td></tr><tr><td>Saskatchewan</td></tr><tr><td>Yukon</td></tr></tbody></table></div>"
      ]
     },
     "metadata": {
      "application/vnd.databricks.v1+output": {
       "addedWidgets": {},
       "aggData": [],
       "aggError": "",
       "aggOverflow": false,
       "aggSchema": [],
       "aggSeriesLimitReached": false,
       "aggType": "",
       "arguments": {},
       "columnCustomDisplayInfos": {},
       "data": [
        [
         "Alberta"
        ],
        [
         "British Columbia"
        ],
        [
         "Canada"
        ],
        [
         "Manitoba"
        ],
        [
         "New Brunswick"
        ],
        [
         "Newfoundland and Labrador"
        ],
        [
         "Northwest Territories"
        ],
        [
         "Nova Scotia"
        ],
        [
         "Nunavut"
        ],
        [
         "Ontario"
        ],
        [
         "Prince Edward Island"
        ],
        [
         "Quebec"
        ],
        [
         "Repatriated travellers"
        ],
        [
         "Saskatchewan"
        ],
        [
         "Yukon"
        ]
       ],
       "datasetInfos": [],
       "dbfsResultPath": null,
       "isJsonSchema": true,
       "metadata": {},
       "overflow": false,
       "plotOptions": {
        "customPlotOptions": {},
        "displayType": "table",
        "pivotAggregation": null,
        "pivotColumns": null,
        "xColumns": null,
        "yColumns": null
       },
       "removedWidgets": [],
       "schema": [
        {
         "metadata": "{}",
         "name": "prname",
         "type": "\"string\""
        }
       ],
       "type": "table"
      }
     },
     "output_type": "display_data"
    }
   ],
   "source": [
    "from pyspark.sql.functions import concat, lit, to_date, col\n",
    "\n",
    "# 4.1: First, look at distinct values of GEO in provpop and prname in dim_province\n",
    "print(\"Distinct GEO in provpop:\")\n",
    "display(provpop.select(\"GEO\").distinct().orderBy(\"GEO\"))\n",
    "\n",
    "print(\"Distinct prname in dim_province:\")\n",
    "display(dim_province.select(\"prname\").distinct().orderBy(\"prname\"))\n"
   ]
  },
  {
   "cell_type": "code",
   "execution_count": 0,
   "metadata": {
    "application/vnd.databricks.v1+cell": {
     "cellMetadata": {
      "byteLimit": 2048000,
      "rowLimit": 10000
     },
     "inputWidgets": {},
     "nuid": "c13babdc-11fd-4d35-bb95-10f4b43c1919",
     "showTitle": false,
     "tableResultSettingsMap": {},
     "title": ""
    }
   },
   "outputs": [
    {
     "output_type": "stream",
     "name": "stdout",
     "output_type": "stream",
     "text": [
      "root\n |-- REF_DATE: date (nullable = true)\n |-- GEO: string (nullable = true)\n |-- DGUID: string (nullable = true)\n |-- UOM: string (nullable = true)\n |-- UOM_ID: integer (nullable = true)\n |-- SCALAR_FACTOR: string (nullable = true)\n |-- SCALAR_ID: integer (nullable = true)\n |-- VECTOR: string (nullable = true)\n |-- COORDINATE: integer (nullable = true)\n |-- VALUE: integer (nullable = true)\n |-- STATUS: string (nullable = true)\n |-- SYMBOL: string (nullable = true)\n |-- TERMINATED: string (nullable = true)\n |-- DECIMALS: integer (nullable = true)\n |-- pruid: integer (nullable = true)\n |-- prname: string (nullable = true)\n\nRows in dim_population: 406\n"
     ]
    },
    {
     "output_type": "display_data",
     "data": {
      "text/html": [
       "<style scoped>\n",
       "  .table-result-container {\n",
       "    max-height: 300px;\n",
       "    overflow: auto;\n",
       "  }\n",
       "  table, th, td {\n",
       "    border: 1px solid black;\n",
       "    border-collapse: collapse;\n",
       "  }\n",
       "  th, td {\n",
       "    padding: 5px;\n",
       "  }\n",
       "  th {\n",
       "    text-align: left;\n",
       "  }\n",
       "</style><div class='table-result-container'><table class='table-result'><thead style='background-color: white'><tr><th>REF_DATE</th><th>GEO</th><th>DGUID</th><th>UOM</th><th>UOM_ID</th><th>SCALAR_FACTOR</th><th>SCALAR_ID</th><th>VECTOR</th><th>COORDINATE</th><th>VALUE</th><th>STATUS</th><th>SYMBOL</th><th>TERMINATED</th><th>DECIMALS</th><th>pruid</th><th>prname</th></tr></thead><tbody><tr><td>2025-01-01</td><td>Nova Scotia</td><td>2016A000212</td><td>Persons</td><td>249</td><td>units</td><td>0</td><td>v9</td><td>4</td><td>1079627</td><td>null</td><td>null</td><td>null</td><td>0</td><td>12</td><td>Nova Scotia</td></tr><tr><td>2025-01-01</td><td>Saskatchewan</td><td>2016A000247</td><td>Persons</td><td>249</td><td>units</td><td>0</td><td>v14</td><td>9</td><td>1250909</td><td>null</td><td>null</td><td>null</td><td>0</td><td>47</td><td>Saskatchewan</td></tr><tr><td>2025-01-01</td><td>Canada</td><td>2016A000011124</td><td>Persons</td><td>249</td><td>units</td><td>0</td><td>v1</td><td>1</td><td>41528680</td><td>null</td><td>null</td><td>null</td><td>0</td><td>1</td><td>Canada</td></tr><tr><td>2025-01-01</td><td>New Brunswick</td><td>2016A000213</td><td>Persons</td><td>249</td><td>units</td><td>0</td><td>v10</td><td>5</td><td>858963</td><td>null</td><td>null</td><td>null</td><td>0</td><td>13</td><td>New Brunswick</td></tr><tr><td>2025-01-01</td><td>Alberta</td><td>2016A000248</td><td>Persons</td><td>249</td><td>units</td><td>0</td><td>v15</td><td>10</td><td>4960097</td><td>null</td><td>null</td><td>null</td><td>0</td><td>48</td><td>Alberta</td></tr><tr><td>2025-01-01</td><td>Northwest Territories</td><td>2016A000261</td><td>Persons</td><td>249</td><td>units</td><td>0</td><td>v6</td><td>14</td><td>45074</td><td>null</td><td>null</td><td>null</td><td>0</td><td>61</td><td>Northwest Territories</td></tr><tr><td>2025-01-01</td><td>Ontario</td><td>2016A000235</td><td>Persons</td><td>249</td><td>units</td><td>0</td><td>v12</td><td>7</td><td>16182641</td><td>null</td><td>null</td><td>null</td><td>0</td><td>35</td><td>Ontario</td></tr><tr><td>2025-01-01</td><td>British Columbia</td><td>2016A000259</td><td>Persons</td><td>249</td><td>units</td><td>0</td><td>v3</td><td>11</td><td>5722318</td><td>null</td><td>null</td><td>null</td><td>0</td><td>59</td><td>British Columbia</td></tr><tr><td>2025-01-01</td><td>Newfoundland and Labrador</td><td>2016A000210</td><td>Persons</td><td>249</td><td>units</td><td>0</td><td>v2</td><td>2</td><td>545579</td><td>null</td><td>null</td><td>null</td><td>0</td><td>10</td><td>Newfoundland and Labrador</td></tr><tr><td>2025-01-01</td><td>Quebec</td><td>2016A000224</td><td>Persons</td><td>249</td><td>units</td><td>0</td><td>v11</td><td>6</td><td>9111629</td><td>null</td><td>null</td><td>null</td><td>0</td><td>24</td><td>Quebec</td></tr></tbody></table></div>"
      ]
     },
     "metadata": {
      "application/vnd.databricks.v1+output": {
       "addedWidgets": {},
       "aggData": [],
       "aggError": "",
       "aggOverflow": false,
       "aggSchema": [],
       "aggSeriesLimitReached": false,
       "aggType": "",
       "arguments": {},
       "columnCustomDisplayInfos": {},
       "data": [
        [
         "2025-01-01",
         "Nova Scotia",
         "2016A000212",
         "Persons",
         249,
         "units",
         0,
         "v9",
         4,
         1079627,
         null,
         null,
         null,
         0,
         12,
         "Nova Scotia"
        ],
        [
         "2025-01-01",
         "Saskatchewan",
         "2016A000247",
         "Persons",
         249,
         "units",
         0,
         "v14",
         9,
         1250909,
         null,
         null,
         null,
         0,
         47,
         "Saskatchewan"
        ],
        [
         "2025-01-01",
         "Canada",
         "2016A000011124",
         "Persons",
         249,
         "units",
         0,
         "v1",
         1,
         41528680,
         null,
         null,
         null,
         0,
         1,
         "Canada"
        ],
        [
         "2025-01-01",
         "New Brunswick",
         "2016A000213",
         "Persons",
         249,
         "units",
         0,
         "v10",
         5,
         858963,
         null,
         null,
         null,
         0,
         13,
         "New Brunswick"
        ],
        [
         "2025-01-01",
         "Alberta",
         "2016A000248",
         "Persons",
         249,
         "units",
         0,
         "v15",
         10,
         4960097,
         null,
         null,
         null,
         0,
         48,
         "Alberta"
        ],
        [
         "2025-01-01",
         "Northwest Territories",
         "2016A000261",
         "Persons",
         249,
         "units",
         0,
         "v6",
         14,
         45074,
         null,
         null,
         null,
         0,
         61,
         "Northwest Territories"
        ],
        [
         "2025-01-01",
         "Ontario",
         "2016A000235",
         "Persons",
         249,
         "units",
         0,
         "v12",
         7,
         16182641,
         null,
         null,
         null,
         0,
         35,
         "Ontario"
        ],
        [
         "2025-01-01",
         "British Columbia",
         "2016A000259",
         "Persons",
         249,
         "units",
         0,
         "v3",
         11,
         5722318,
         null,
         null,
         null,
         0,
         59,
         "British Columbia"
        ],
        [
         "2025-01-01",
         "Newfoundland and Labrador",
         "2016A000210",
         "Persons",
         249,
         "units",
         0,
         "v2",
         2,
         545579,
         null,
         null,
         null,
         0,
         10,
         "Newfoundland and Labrador"
        ],
        [
         "2025-01-01",
         "Quebec",
         "2016A000224",
         "Persons",
         249,
         "units",
         0,
         "v11",
         6,
         9111629,
         null,
         null,
         null,
         0,
         24,
         "Quebec"
        ]
       ],
       "datasetInfos": [],
       "dbfsResultPath": null,
       "isJsonSchema": true,
       "metadata": {},
       "overflow": false,
       "plotOptions": {
        "customPlotOptions": {},
        "displayType": "table",
        "pivotAggregation": null,
        "pivotColumns": null,
        "xColumns": null,
        "yColumns": null
       },
       "removedWidgets": [],
       "schema": [
        {
         "metadata": "{\"__detected_date_formats\":\"yyyy-M\"}",
         "name": "REF_DATE",
         "type": "\"date\""
        },
        {
         "metadata": "{}",
         "name": "GEO",
         "type": "\"string\""
        },
        {
         "metadata": "{}",
         "name": "DGUID",
         "type": "\"string\""
        },
        {
         "metadata": "{}",
         "name": "UOM",
         "type": "\"string\""
        },
        {
         "metadata": "{}",
         "name": "UOM_ID",
         "type": "\"integer\""
        },
        {
         "metadata": "{}",
         "name": "SCALAR_FACTOR",
         "type": "\"string\""
        },
        {
         "metadata": "{}",
         "name": "SCALAR_ID",
         "type": "\"integer\""
        },
        {
         "metadata": "{}",
         "name": "VECTOR",
         "type": "\"string\""
        },
        {
         "metadata": "{}",
         "name": "COORDINATE",
         "type": "\"integer\""
        },
        {
         "metadata": "{}",
         "name": "VALUE",
         "type": "\"integer\""
        },
        {
         "metadata": "{}",
         "name": "STATUS",
         "type": "\"string\""
        },
        {
         "metadata": "{}",
         "name": "SYMBOL",
         "type": "\"string\""
        },
        {
         "metadata": "{}",
         "name": "TERMINATED",
         "type": "\"string\""
        },
        {
         "metadata": "{}",
         "name": "DECIMALS",
         "type": "\"integer\""
        },
        {
         "metadata": "{}",
         "name": "pruid",
         "type": "\"integer\""
        },
        {
         "metadata": "{}",
         "name": "prname",
         "type": "\"string\""
        }
       ],
       "type": "table"
      }
     },
     "output_type": "display_data"
    }
   ],
   "source": [
    "from pyspark.sql.functions import concat, lit, to_date, col\n",
    "\n",
    "# 4.2.1: Join provpop to dim_province (inner join ensures only matching provinces)\n",
    "provpop_with_pruid = provpop.join(\n",
    "    dim_province,\n",
    "    provpop.GEO == dim_province.prname,\n",
    "    how=\"inner\"\n",
    ")\n",
    "\n",
    "# Verify schema and row count\n",
    "provpop_with_pruid.printSchema()\n",
    "print(\"Rows in dim_population:\", provpop_with_pruid.count())\n",
    "\n",
    "# Show a few rows\n",
    "display(provpop_with_pruid.limit(10))"
   ]
  },
  {
   "cell_type": "code",
   "execution_count": 0,
   "metadata": {
    "application/vnd.databricks.v1+cell": {
     "cellMetadata": {
      "byteLimit": 2048000,
      "rowLimit": 10000
     },
     "inputWidgets": {},
     "nuid": "755208a5-d891-48c3-9966-cc23c0029269",
     "showTitle": false,
     "tableResultSettingsMap": {},
     "title": ""
    }
   },
   "outputs": [
    {
     "output_type": "stream",
     "name": "stdout",
     "output_type": "stream",
     "text": [
      "root\n |-- pruid: integer (nullable = true)\n |-- prname: string (nullable = true)\n |-- PopDate: date (nullable = true)\n |-- PopulationValue: integer (nullable = true)\n\nRows in dim_population: 406\n"
     ]
    },
    {
     "output_type": "display_data",
     "data": {
      "text/html": [
       "<style scoped>\n",
       "  .table-result-container {\n",
       "    max-height: 300px;\n",
       "    overflow: auto;\n",
       "  }\n",
       "  table, th, td {\n",
       "    border: 1px solid black;\n",
       "    border-collapse: collapse;\n",
       "  }\n",
       "  th, td {\n",
       "    padding: 5px;\n",
       "  }\n",
       "  th {\n",
       "    text-align: left;\n",
       "  }\n",
       "</style><div class='table-result-container'><table class='table-result'><thead style='background-color: white'><tr><th>pruid</th><th>prname</th><th>PopDate</th><th>PopulationValue</th></tr></thead><tbody><tr><td>1</td><td>Canada</td><td>2018-01-01</td><td>36801579</td></tr><tr><td>1</td><td>Canada</td><td>2018-04-01</td><td>36903671</td></tr><tr><td>1</td><td>Canada</td><td>2018-07-01</td><td>37072620</td></tr><tr><td>1</td><td>Canada</td><td>2018-10-01</td><td>37259485</td></tr><tr><td>1</td><td>Canada</td><td>2019-01-01</td><td>37336956</td></tr><tr><td>1</td><td>Canada</td><td>2019-04-01</td><td>37437243</td></tr><tr><td>1</td><td>Canada</td><td>2019-07-01</td><td>37618495</td></tr><tr><td>1</td><td>Canada</td><td>2019-10-01</td><td>37828162</td></tr><tr><td>1</td><td>Canada</td><td>2020-01-01</td><td>37928208</td></tr><tr><td>1</td><td>Canada</td><td>2020-04-01</td><td>38006941</td></tr></tbody></table></div>"
      ]
     },
     "metadata": {
      "application/vnd.databricks.v1+output": {
       "addedWidgets": {},
       "aggData": [],
       "aggError": "",
       "aggOverflow": false,
       "aggSchema": [],
       "aggSeriesLimitReached": false,
       "aggType": "",
       "arguments": {},
       "columnCustomDisplayInfos": {},
       "data": [
        [
         1,
         "Canada",
         "2018-01-01",
         36801579
        ],
        [
         1,
         "Canada",
         "2018-04-01",
         36903671
        ],
        [
         1,
         "Canada",
         "2018-07-01",
         37072620
        ],
        [
         1,
         "Canada",
         "2018-10-01",
         37259485
        ],
        [
         1,
         "Canada",
         "2019-01-01",
         37336956
        ],
        [
         1,
         "Canada",
         "2019-04-01",
         37437243
        ],
        [
         1,
         "Canada",
         "2019-07-01",
         37618495
        ],
        [
         1,
         "Canada",
         "2019-10-01",
         37828162
        ],
        [
         1,
         "Canada",
         "2020-01-01",
         37928208
        ],
        [
         1,
         "Canada",
         "2020-04-01",
         38006941
        ]
       ],
       "datasetInfos": [],
       "dbfsResultPath": null,
       "isJsonSchema": true,
       "metadata": {},
       "overflow": false,
       "plotOptions": {
        "customPlotOptions": {},
        "displayType": "table",
        "pivotAggregation": null,
        "pivotColumns": null,
        "xColumns": null,
        "yColumns": null
       },
       "removedWidgets": [],
       "schema": [
        {
         "metadata": "{}",
         "name": "pruid",
         "type": "\"integer\""
        },
        {
         "metadata": "{}",
         "name": "prname",
         "type": "\"string\""
        },
        {
         "metadata": "{\"__detected_date_formats\":\"yyyy-M\"}",
         "name": "PopDate",
         "type": "\"date\""
        },
        {
         "metadata": "{}",
         "name": "PopulationValue",
         "type": "\"integer\""
        }
       ],
       "type": "table"
      }
     },
     "output_type": "display_data"
    }
   ],
   "source": [
    "\n",
    "# 4.2.2: Convert REF_DATE to PopDate and cast VALUE to integer\n",
    "dim_population = provpop_with_pruid \\\n",
    "    .withColumnRenamed(\"REF_DATE\", \"PopDate\") \\\n",
    "    .withColumn(\"PopulationValue\", col(\"VALUE\").cast(\"integer\")) \\\n",
    "    .select(\n",
    "        col(\"pruid\"),      # from dim_province\n",
    "        col(\"prname\"),     # English name from dim_province\n",
    "        col(\"PopDate\"),\n",
    "        col(\"PopulationValue\")\n",
    "    )\n",
    "\n",
    "# Verify schema and row count\n",
    "dim_population.printSchema()\n",
    "print(\"Rows in dim_population:\", dim_population.count())\n",
    "\n",
    "# Show a few rows\n",
    "display(dim_population.orderBy(\"pruid\", \"PopDate\").limit(10))"
   ]
  },
  {
   "cell_type": "code",
   "execution_count": 0,
   "metadata": {
    "application/vnd.databricks.v1+cell": {
     "cellMetadata": {
      "byteLimit": 2048000,
      "rowLimit": 10000
     },
     "inputWidgets": {},
     "nuid": "474ee56c-6b52-4f4e-9790-eac5a82f9093",
     "showTitle": false,
     "tableResultSettingsMap": {},
     "title": ""
    }
   },
   "outputs": [],
   "source": [
    "# 4.2.3: Drop any rows missing keys or values\n",
    "dim_population = dim_population.na.drop(subset=[\"pruid\", \"PopDate\", \"PopulationValue\"])\n",
    "\n",
    "# 4.2.4: Remove duplicates on (pruid, PopDate)\n",
    "dim_population = dim_population.dropDuplicates([\"pruid\", \"PopDate\"])"
   ]
  },
  {
   "cell_type": "code",
   "execution_count": 0,
   "metadata": {
    "application/vnd.databricks.v1+cell": {
     "cellMetadata": {
      "byteLimit": 2048000,
      "rowLimit": 10000
     },
     "inputWidgets": {},
     "nuid": "dfbdf339-38f7-4370-8710-c5e8e312fde6",
     "showTitle": false,
     "tableResultSettingsMap": {},
     "title": ""
    }
   },
   "outputs": [],
   "source": [
    "dim_population = dim_population.drop(\"prname\")"
   ]
  },
  {
   "cell_type": "code",
   "execution_count": 0,
   "metadata": {
    "application/vnd.databricks.v1+cell": {
     "cellMetadata": {
      "byteLimit": 2048000,
      "rowLimit": 10000
     },
     "inputWidgets": {},
     "nuid": "0e025d48-bdae-4aad-b979-c9ce29a42818",
     "showTitle": false,
     "tableResultSettingsMap": {},
     "title": ""
    }
   },
   "outputs": [
    {
     "output_type": "stream",
     "name": "stdout",
     "output_type": "stream",
     "text": [
      "root\n |-- pruid: integer (nullable = true)\n |-- PopDate: date (nullable = true)\n |-- PopulationValue: integer (nullable = true)\n\nRows in dim_population: 406\n"
     ]
    },
    {
     "output_type": "display_data",
     "data": {
      "text/html": [
       "<style scoped>\n",
       "  .table-result-container {\n",
       "    max-height: 300px;\n",
       "    overflow: auto;\n",
       "  }\n",
       "  table, th, td {\n",
       "    border: 1px solid black;\n",
       "    border-collapse: collapse;\n",
       "  }\n",
       "  th, td {\n",
       "    padding: 5px;\n",
       "  }\n",
       "  th {\n",
       "    text-align: left;\n",
       "  }\n",
       "</style><div class='table-result-container'><table class='table-result'><thead style='background-color: white'><tr><th>pruid</th><th>PopDate</th><th>PopulationValue</th></tr></thead><tbody><tr><td>1</td><td>2018-01-01</td><td>36801579</td></tr><tr><td>1</td><td>2018-04-01</td><td>36903671</td></tr><tr><td>1</td><td>2018-07-01</td><td>37072620</td></tr><tr><td>1</td><td>2018-10-01</td><td>37259485</td></tr><tr><td>1</td><td>2019-01-01</td><td>37336956</td></tr><tr><td>1</td><td>2019-04-01</td><td>37437243</td></tr><tr><td>1</td><td>2019-07-01</td><td>37618495</td></tr><tr><td>1</td><td>2019-10-01</td><td>37828162</td></tr><tr><td>1</td><td>2020-01-01</td><td>37928208</td></tr><tr><td>1</td><td>2020-04-01</td><td>38006941</td></tr></tbody></table></div>"
      ]
     },
     "metadata": {
      "application/vnd.databricks.v1+output": {
       "addedWidgets": {},
       "aggData": [],
       "aggError": "",
       "aggOverflow": false,
       "aggSchema": [],
       "aggSeriesLimitReached": false,
       "aggType": "",
       "arguments": {},
       "columnCustomDisplayInfos": {},
       "data": [
        [
         1,
         "2018-01-01",
         36801579
        ],
        [
         1,
         "2018-04-01",
         36903671
        ],
        [
         1,
         "2018-07-01",
         37072620
        ],
        [
         1,
         "2018-10-01",
         37259485
        ],
        [
         1,
         "2019-01-01",
         37336956
        ],
        [
         1,
         "2019-04-01",
         37437243
        ],
        [
         1,
         "2019-07-01",
         37618495
        ],
        [
         1,
         "2019-10-01",
         37828162
        ],
        [
         1,
         "2020-01-01",
         37928208
        ],
        [
         1,
         "2020-04-01",
         38006941
        ]
       ],
       "datasetInfos": [],
       "dbfsResultPath": null,
       "isJsonSchema": true,
       "metadata": {},
       "overflow": false,
       "plotOptions": {
        "customPlotOptions": {},
        "displayType": "table",
        "pivotAggregation": null,
        "pivotColumns": null,
        "xColumns": null,
        "yColumns": null
       },
       "removedWidgets": [],
       "schema": [
        {
         "metadata": "{}",
         "name": "pruid",
         "type": "\"integer\""
        },
        {
         "metadata": "{\"__detected_date_formats\":\"yyyy-M\"}",
         "name": "PopDate",
         "type": "\"date\""
        },
        {
         "metadata": "{}",
         "name": "PopulationValue",
         "type": "\"integer\""
        }
       ],
       "type": "table"
      }
     },
     "output_type": "display_data"
    }
   ],
   "source": [
    "# Verify schema and row count\n",
    "dim_population.printSchema()\n",
    "print(\"Rows in dim_population:\", dim_population.count())\n",
    "\n",
    "# Show a few rows\n",
    "display(dim_population.orderBy(\"pruid\", \"PopDate\").limit(10))\n"
   ]
  },
  {
   "cell_type": "markdown",
   "metadata": {
    "application/vnd.databricks.v1+cell": {
     "cellMetadata": {
      "byteLimit": 2048000,
      "rowLimit": 10000
     },
     "inputWidgets": {},
     "nuid": "659229d8-a649-430b-b491-2e42691787b5",
     "showTitle": false,
     "tableResultSettingsMap": {},
     "title": ""
    }
   },
   "source": [
    "## Step 6: Build **dim_date**\n",
    "\n",
    "We need a calendar table with:\n",
    "- `FullDate` (all unique dates)\n",
    "- `Year`, `Month`, `Day`\n",
    "- `WeekOfYear`\n",
    "- `IsWeekEnd` (1 if Saturday, else 0)\n",
    "- `MonthStart` (first day of that month)\n",
    "\n",
    "We’ll pull dates from:\n",
    "- `death_clean.date`\n",
    "- `vacc_clean.report_date`\n",
    "- `dim_population.PopDate`\n"
   ]
  },
  {
   "cell_type": "code",
   "execution_count": 0,
   "metadata": {
    "application/vnd.databricks.v1+cell": {
     "cellMetadata": {
      "byteLimit": 2048000,
      "rowLimit": 10000
     },
     "inputWidgets": {},
     "nuid": "9638a80e-b68c-4039-83df-2f6eb673d7e4",
     "showTitle": false,
     "tableResultSettingsMap": {},
     "title": ""
    }
   },
   "outputs": [],
   "source": [
    "from pyspark.sql.functions import year, month, dayofmonth, weekofyear, dayofweek, trunc\n",
    "\n",
    "# 6.1: Collect all distinct dates\n",
    "dates_from_death = death_clean.select(col(\"date\").alias(\"FullDate\"))\n",
    "dates_from_vacc  = vacc_clean.select(col(\"report_date\").alias(\"FullDate\"))\n",
    "dates_from_pop   = dim_population.select(col(\"PopDate\").alias(\"FullDate\"))\n",
    "\n",
    "all_dates = dates_from_death.union(dates_from_vacc).union(dates_from_pop).dropDuplicates([\"FullDate\"])\n",
    "\n",
    "# 6.2: Compute date attributes\n",
    "dim_date = all_dates \\\n",
    "    .withColumn(\"Year\", year(col(\"FullDate\"))) \\\n",
    "    .withColumn(\"Month\", month(col(\"FullDate\"))) \\\n",
    "    .withColumn(\"Day\", dayofmonth(col(\"FullDate\"))) \\\n",
    "    .withColumn(\"WeekOfYear\", weekofyear(col(\"FullDate\"))) \\\n",
    "    .withColumn(\n",
    "        \"IsWeekEnd\",\n",
    "        when(dayofweek(col(\"FullDate\")) == 7, 1).otherwise(0)  # Saturday → 7\n",
    "    ) \\\n",
    "    .withColumn(\n",
    "        \"MonthStart\",\n",
    "        trunc(col(\"FullDate\"), \"month\")\n",
    "    )\n",
    "\n",
    "\n"
   ]
  },
  {
   "cell_type": "code",
   "execution_count": 0,
   "metadata": {
    "application/vnd.databricks.v1+cell": {
     "cellMetadata": {
      "byteLimit": 2048000,
      "rowLimit": 10000
     },
     "inputWidgets": {},
     "nuid": "72f576d6-9ef6-47be-9386-a2bb9981896b",
     "showTitle": false,
     "tableResultSettingsMap": {},
     "title": ""
    }
   },
   "outputs": [
    {
     "output_type": "stream",
     "name": "stdout",
     "output_type": "stream",
     "text": [
      "root\n |-- FullDate: date (nullable = true)\n |-- Year: integer (nullable = true)\n |-- Month: integer (nullable = true)\n |-- Day: integer (nullable = true)\n |-- WeekOfYear: integer (nullable = true)\n |-- IsWeekEnd: integer (nullable = false)\n |-- MonthStart: date (nullable = true)\n\nRows in dim_date: 1078\n"
     ]
    },
    {
     "output_type": "display_data",
     "data": {
      "text/html": [
       "<style scoped>\n",
       "  .table-result-container {\n",
       "    max-height: 300px;\n",
       "    overflow: auto;\n",
       "  }\n",
       "  table, th, td {\n",
       "    border: 1px solid black;\n",
       "    border-collapse: collapse;\n",
       "  }\n",
       "  th, td {\n",
       "    padding: 5px;\n",
       "  }\n",
       "  th {\n",
       "    text-align: left;\n",
       "  }\n",
       "</style><div class='table-result-container'><table class='table-result'><thead style='background-color: white'><tr><th>FullDate</th><th>Year</th><th>Month</th><th>Day</th><th>WeekOfYear</th><th>IsWeekEnd</th><th>MonthStart</th></tr></thead><tbody><tr><td>2018-01-01</td><td>2018</td><td>1</td><td>1</td><td>1</td><td>0</td><td>2018-01-01</td></tr><tr><td>2018-04-01</td><td>2018</td><td>4</td><td>1</td><td>13</td><td>0</td><td>2018-04-01</td></tr><tr><td>2018-07-01</td><td>2018</td><td>7</td><td>1</td><td>26</td><td>0</td><td>2018-07-01</td></tr><tr><td>2018-10-01</td><td>2018</td><td>10</td><td>1</td><td>40</td><td>0</td><td>2018-10-01</td></tr><tr><td>2019-01-01</td><td>2019</td><td>1</td><td>1</td><td>1</td><td>0</td><td>2019-01-01</td></tr><tr><td>2019-04-01</td><td>2019</td><td>4</td><td>1</td><td>14</td><td>0</td><td>2019-04-01</td></tr><tr><td>2019-07-01</td><td>2019</td><td>7</td><td>1</td><td>27</td><td>0</td><td>2019-07-01</td></tr><tr><td>2019-10-01</td><td>2019</td><td>10</td><td>1</td><td>40</td><td>0</td><td>2019-10-01</td></tr><tr><td>2020-01-01</td><td>2020</td><td>1</td><td>1</td><td>1</td><td>0</td><td>2020-01-01</td></tr><tr><td>2020-04-01</td><td>2020</td><td>4</td><td>1</td><td>14</td><td>0</td><td>2020-04-01</td></tr></tbody></table></div>"
      ]
     },
     "metadata": {
      "application/vnd.databricks.v1+output": {
       "addedWidgets": {},
       "aggData": [],
       "aggError": "",
       "aggOverflow": false,
       "aggSchema": [],
       "aggSeriesLimitReached": false,
       "aggType": "",
       "arguments": {},
       "columnCustomDisplayInfos": {},
       "data": [
        [
         "2018-01-01",
         2018,
         1,
         1,
         1,
         0,
         "2018-01-01"
        ],
        [
         "2018-04-01",
         2018,
         4,
         1,
         13,
         0,
         "2018-04-01"
        ],
        [
         "2018-07-01",
         2018,
         7,
         1,
         26,
         0,
         "2018-07-01"
        ],
        [
         "2018-10-01",
         2018,
         10,
         1,
         40,
         0,
         "2018-10-01"
        ],
        [
         "2019-01-01",
         2019,
         1,
         1,
         1,
         0,
         "2019-01-01"
        ],
        [
         "2019-04-01",
         2019,
         4,
         1,
         14,
         0,
         "2019-04-01"
        ],
        [
         "2019-07-01",
         2019,
         7,
         1,
         27,
         0,
         "2019-07-01"
        ],
        [
         "2019-10-01",
         2019,
         10,
         1,
         40,
         0,
         "2019-10-01"
        ],
        [
         "2020-01-01",
         2020,
         1,
         1,
         1,
         0,
         "2020-01-01"
        ],
        [
         "2020-04-01",
         2020,
         4,
         1,
         14,
         0,
         "2020-04-01"
        ]
       ],
       "datasetInfos": [],
       "dbfsResultPath": null,
       "isJsonSchema": true,
       "metadata": {},
       "overflow": false,
       "plotOptions": {
        "customPlotOptions": {},
        "displayType": "table",
        "pivotAggregation": null,
        "pivotColumns": null,
        "xColumns": null,
        "yColumns": null
       },
       "removedWidgets": [],
       "schema": [
        {
         "metadata": "{}",
         "name": "FullDate",
         "type": "\"date\""
        },
        {
         "metadata": "{}",
         "name": "Year",
         "type": "\"integer\""
        },
        {
         "metadata": "{}",
         "name": "Month",
         "type": "\"integer\""
        },
        {
         "metadata": "{}",
         "name": "Day",
         "type": "\"integer\""
        },
        {
         "metadata": "{}",
         "name": "WeekOfYear",
         "type": "\"integer\""
        },
        {
         "metadata": "{}",
         "name": "IsWeekEnd",
         "type": "\"integer\""
        },
        {
         "metadata": "{}",
         "name": "MonthStart",
         "type": "\"date\""
        }
       ],
       "type": "table"
      }
     },
     "output_type": "display_data"
    }
   ],
   "source": [
    "# 6.3: Final check\n",
    "dim_date.printSchema()\n",
    "print(\"Rows in dim_date:\", dim_date.count())\n",
    "display(dim_date.orderBy(\"FullDate\").filter(\"IsWeekEnd = 0\").limit(10))"
   ]
  },
  {
   "cell_type": "markdown",
   "metadata": {
    "application/vnd.databricks.v1+cell": {
     "cellMetadata": {
      "byteLimit": 2048000,
      "rowLimit": 10000
     },
     "inputWidgets": {},
     "nuid": "4fb34d74-4e56-4d3a-a41a-11524f0cd83a",
     "showTitle": false,
     "tableResultSettingsMap": {},
     "title": ""
    }
   },
   "source": [
    "## Step 7: Build **fact_covid**\n",
    "\n",
    "From `death_clean`, select:\n",
    "- `pruid`\n",
    "- `date`\n",
    "- `reporting_year`\n",
    "- `reporting_week`\n",
    "- `totalcases`\n",
    "- `numtotal_last7` → alias as `numcases_weekly`\n",
    "- `numdeaths_last7` → alias as `numdeaths_weekly`\n",
    "- `ratecases_last7`\n",
    "- `ratedeaths_last7`\n",
    "\n",
    "We’ll ensure no duplicates on (pruid, date).\n"
   ]
  },
  {
   "cell_type": "code",
   "execution_count": 0,
   "metadata": {
    "application/vnd.databricks.v1+cell": {
     "cellMetadata": {
      "byteLimit": 2048000,
      "rowLimit": 10000
     },
     "inputWidgets": {},
     "nuid": "6ed198ab-c45c-40cb-951f-a7b08cffe63a",
     "showTitle": false,
     "tableResultSettingsMap": {},
     "title": ""
    }
   },
   "outputs": [
    {
     "output_type": "stream",
     "name": "stdout",
     "output_type": "stream",
     "text": [
      "Duplicates in fact_covid on (pruid, date): 0\n"
     ]
    },
    {
     "output_type": "display_data",
     "data": {
      "text/html": [
       "<style scoped>\n",
       "  .table-result-container {\n",
       "    max-height: 300px;\n",
       "    overflow: auto;\n",
       "  }\n",
       "  table, th, td {\n",
       "    border: 1px solid black;\n",
       "    border-collapse: collapse;\n",
       "  }\n",
       "  th, td {\n",
       "    padding: 5px;\n",
       "  }\n",
       "  th {\n",
       "    text-align: left;\n",
       "  }\n",
       "</style><div class='table-result-container'><table class='table-result'><thead style='background-color: white'><tr><th>pruid</th><th>date</th><th>reporting_year</th><th>reporting_week</th><th>totalcases</th><th>numcases_weekly</th><th>numdeaths_weekly</th><th>ratecases_last7</th><th>ratedeaths_last7</th></tr></thead><tbody><tr><td>1</td><td>2020-02-08</td><td>2020</td><td>6</td><td>8</td><td>4</td><td>0</td><td>0.01</td><td>0.0</td></tr><tr><td>1</td><td>2020-02-15</td><td>2020</td><td>7</td><td>8</td><td>0</td><td>0</td><td>0.0</td><td>0.0</td></tr><tr><td>1</td><td>2020-02-22</td><td>2020</td><td>8</td><td>11</td><td>3</td><td>0</td><td>0.01</td><td>0.0</td></tr><tr><td>1</td><td>2020-02-29</td><td>2020</td><td>9</td><td>25</td><td>14</td><td>0</td><td>0.03</td><td>0.0</td></tr><tr><td>1</td><td>2020-03-07</td><td>2020</td><td>10</td><td>63</td><td>38</td><td>0</td><td>0.09</td><td>0.0</td></tr></tbody></table></div>"
      ]
     },
     "metadata": {
      "application/vnd.databricks.v1+output": {
       "addedWidgets": {},
       "aggData": [],
       "aggError": "",
       "aggOverflow": false,
       "aggSchema": [],
       "aggSeriesLimitReached": false,
       "aggType": "",
       "arguments": {},
       "columnCustomDisplayInfos": {},
       "data": [
        [
         1,
         "2020-02-08",
         2020,
         6,
         8,
         4,
         0,
         0.01,
         0.0
        ],
        [
         1,
         "2020-02-15",
         2020,
         7,
         8,
         0,
         0,
         0.0,
         0.0
        ],
        [
         1,
         "2020-02-22",
         2020,
         8,
         11,
         3,
         0,
         0.01,
         0.0
        ],
        [
         1,
         "2020-02-29",
         2020,
         9,
         25,
         14,
         0,
         0.03,
         0.0
        ],
        [
         1,
         "2020-03-07",
         2020,
         10,
         63,
         38,
         0,
         0.09,
         0.0
        ]
       ],
       "datasetInfos": [],
       "dbfsResultPath": null,
       "isJsonSchema": true,
       "metadata": {},
       "overflow": false,
       "plotOptions": {
        "customPlotOptions": {},
        "displayType": "table",
        "pivotAggregation": null,
        "pivotColumns": null,
        "xColumns": null,
        "yColumns": null
       },
       "removedWidgets": [],
       "schema": [
        {
         "metadata": "{}",
         "name": "pruid",
         "type": "\"integer\""
        },
        {
         "metadata": "{}",
         "name": "date",
         "type": "\"date\""
        },
        {
         "metadata": "{}",
         "name": "reporting_year",
         "type": "\"integer\""
        },
        {
         "metadata": "{}",
         "name": "reporting_week",
         "type": "\"integer\""
        },
        {
         "metadata": "{}",
         "name": "totalcases",
         "type": "\"integer\""
        },
        {
         "metadata": "{}",
         "name": "numcases_weekly",
         "type": "\"integer\""
        },
        {
         "metadata": "{}",
         "name": "numdeaths_weekly",
         "type": "\"integer\""
        },
        {
         "metadata": "{}",
         "name": "ratecases_last7",
         "type": "\"double\""
        },
        {
         "metadata": "{}",
         "name": "ratedeaths_last7",
         "type": "\"double\""
        }
       ],
       "type": "table"
      }
     },
     "output_type": "display_data"
    }
   ],
   "source": [
    "from pyspark.sql.functions import col\n",
    "\n",
    "fact_covid = death_clean.select(\n",
    "    col(\"pruid\"),\n",
    "    col(\"date\"),\n",
    "    col(\"reporting_year\"),\n",
    "    col(\"reporting_week\"),\n",
    "    col(\"totalcases\"),\n",
    "    col(\"numtotal_last7\").alias(\"numcases_weekly\"),\n",
    "    col(\"numdeaths_last7\").alias(\"numdeaths_weekly\"),\n",
    "    col(\"ratecases_last7\"),\n",
    "    col(\"ratedeaths_last7\")\n",
    ")\n",
    "\n",
    "# 7.1: Check uniqueness on (pruid, date)\n",
    "dup_count_covid = fact_covid.groupBy(\"pruid\", \"date\").count().filter(col(\"count\") > 1).count()\n",
    "print(f\"Duplicates in fact_covid on (pruid, date): {dup_count_covid}\")\n",
    "\n",
    "# 7.2: Sample rows\n",
    "display(fact_covid.orderBy(\"pruid\", \"date\").limit(5))\n"
   ]
  },
  {
   "cell_type": "markdown",
   "metadata": {
    "application/vnd.databricks.v1+cell": {
     "cellMetadata": {
      "byteLimit": 2048000,
      "rowLimit": 10000
     },
     "inputWidgets": {},
     "nuid": "c7739c9a-2b23-48d1-a8b3-13acfa984a5a",
     "showTitle": false,
     "tableResultSettingsMap": {},
     "title": ""
    }
   },
   "source": [
    "## Step 8: Build **fact_vaccination**\n",
    "\n",
    "From `vacc_clean`, select:\n",
    "- `pruid`\n",
    "- `report_date` → alias as `date`\n",
    "- `numtotal_all_administered`\n",
    "- `numtotal_dose1_administered`\n",
    "- `numtotal_dose2_administered`\n",
    "- `numtotal_dose3_administered`\n",
    "- `numtotal_dose4_administered`\n",
    "- `numtotal_other_or_unreported`\n",
    "- `updated`\n",
    "\n",
    "Ensure no duplicates on (pruid, date).\n"
   ]
  },
  {
   "cell_type": "code",
   "execution_count": 0,
   "metadata": {
    "application/vnd.databricks.v1+cell": {
     "cellMetadata": {
      "byteLimit": 2048000,
      "rowLimit": 10000
     },
     "inputWidgets": {},
     "nuid": "121c2eca-3d13-420b-ba34-e8ee7399a7b3",
     "showTitle": false,
     "tableResultSettingsMap": {},
     "title": ""
    }
   },
   "outputs": [
    {
     "output_type": "stream",
     "name": "stdout",
     "output_type": "stream",
     "text": [
      "Duplicates in fact_vaccination on (pruid, date): 0\n"
     ]
    },
    {
     "output_type": "display_data",
     "data": {
      "text/html": [
       "<style scoped>\n",
       "  .table-result-container {\n",
       "    max-height: 300px;\n",
       "    overflow: auto;\n",
       "  }\n",
       "  table, th, td {\n",
       "    border: 1px solid black;\n",
       "    border-collapse: collapse;\n",
       "  }\n",
       "  th, td {\n",
       "    padding: 5px;\n",
       "  }\n",
       "  th {\n",
       "    text-align: left;\n",
       "  }\n",
       "</style><div class='table-result-container'><table class='table-result'><thead style='background-color: white'><tr><th>pruid</th><th>date</th><th>numtotal_all_administered</th><th>numtotal_dose1_administered</th><th>numtotal_dose2_administered</th><th>numtotal_dose3_administered</th><th>numtotal_dose4_administered</th><th>numtotal_other_or_unreported</th><th>updated</th></tr></thead><tbody><tr><td>1</td><td>2021-01-19</td><td>685572</td><td>257333</td><td>17580</td><td>0</td><td>0</td><td>410659</td><td>1</td></tr><tr><td>1</td><td>2021-01-20</td><td>727127</td><td>263643</td><td>21506</td><td>0</td><td>0</td><td>441978</td><td>1</td></tr><tr><td>1</td><td>2021-01-21</td><td>765623</td><td>268932</td><td>28605</td><td>0</td><td>0</td><td>468086</td><td>1</td></tr><tr><td>1</td><td>2021-01-22</td><td>798940</td><td>271367</td><td>32913</td><td>0</td><td>0</td><td>494660</td><td>1</td></tr><tr><td>1</td><td>2021-01-23</td><td>817801</td><td>273774</td><td>35896</td><td>0</td><td>0</td><td>508131</td><td>1</td></tr></tbody></table></div>"
      ]
     },
     "metadata": {
      "application/vnd.databricks.v1+output": {
       "addedWidgets": {},
       "aggData": [],
       "aggError": "",
       "aggOverflow": false,
       "aggSchema": [],
       "aggSeriesLimitReached": false,
       "aggType": "",
       "arguments": {},
       "columnCustomDisplayInfos": {},
       "data": [
        [
         1,
         "2021-01-19",
         685572,
         257333,
         17580,
         0,
         0,
         410659,
         1
        ],
        [
         1,
         "2021-01-20",
         727127,
         263643,
         21506,
         0,
         0,
         441978,
         1
        ],
        [
         1,
         "2021-01-21",
         765623,
         268932,
         28605,
         0,
         0,
         468086,
         1
        ],
        [
         1,
         "2021-01-22",
         798940,
         271367,
         32913,
         0,
         0,
         494660,
         1
        ],
        [
         1,
         "2021-01-23",
         817801,
         273774,
         35896,
         0,
         0,
         508131,
         1
        ]
       ],
       "datasetInfos": [],
       "dbfsResultPath": null,
       "isJsonSchema": true,
       "metadata": {},
       "overflow": false,
       "plotOptions": {
        "customPlotOptions": {},
        "displayType": "table",
        "pivotAggregation": null,
        "pivotColumns": null,
        "xColumns": null,
        "yColumns": null
       },
       "removedWidgets": [],
       "schema": [
        {
         "metadata": "{}",
         "name": "pruid",
         "type": "\"integer\""
        },
        {
         "metadata": "{}",
         "name": "date",
         "type": "\"date\""
        },
        {
         "metadata": "{}",
         "name": "numtotal_all_administered",
         "type": "\"integer\""
        },
        {
         "metadata": "{}",
         "name": "numtotal_dose1_administered",
         "type": "\"integer\""
        },
        {
         "metadata": "{}",
         "name": "numtotal_dose2_administered",
         "type": "\"integer\""
        },
        {
         "metadata": "{}",
         "name": "numtotal_dose3_administered",
         "type": "\"integer\""
        },
        {
         "metadata": "{}",
         "name": "numtotal_dose4_administered",
         "type": "\"integer\""
        },
        {
         "metadata": "{}",
         "name": "numtotal_other_or_unreported",
         "type": "\"integer\""
        },
        {
         "metadata": "{}",
         "name": "updated",
         "type": "\"integer\""
        }
       ],
       "type": "table"
      }
     },
     "output_type": "display_data"
    }
   ],
   "source": [
    "fact_vaccination = vacc_clean.select(\n",
    "    col(\"pruid\"),\n",
    "    col(\"report_date\").alias(\"date\"),\n",
    "    col(\"numtotal_all_administered\"),\n",
    "    col(\"numtotal_dose1_administered\"),\n",
    "    col(\"numtotal_dose2_administered\"),\n",
    "    col(\"numtotal_dose3_administered\"),\n",
    "    col(\"numtotal_dose4_administered\"),\n",
    "    col(\"numtotal_other_or_unreported\"),\n",
    "    col(\"updated\")\n",
    ")\n",
    "\n",
    "# 8.1: Check uniqueness on (pruid, date)\n",
    "dup_count_vacc = fact_vaccination.groupBy(\"pruid\", \"date\").count().filter(col(\"count\") > 1).count()\n",
    "print(f\"Duplicates in fact_vaccination on (pruid, date): {dup_count_vacc}\")\n",
    "\n",
    "# 8.2: Sample rows\n",
    "display(fact_vaccination.orderBy(\"pruid\", \"date\").limit(5))\n"
   ]
  },
  {
   "cell_type": "code",
   "execution_count": 0,
   "metadata": {
    "application/vnd.databricks.v1+cell": {
     "cellMetadata": {
      "byteLimit": 2048000,
      "rowLimit": 10000
     },
     "inputWidgets": {},
     "nuid": "46dbd22e-1984-4d9a-ab0f-ce89438d7b41",
     "showTitle": false,
     "tableResultSettingsMap": {},
     "title": ""
    }
   },
   "outputs": [],
   "source": [
    "# 10.1: Write dim_province to ADLS\n",
    "dim_province.write.mode(\"overwrite\") \\\n",
    "  .option(\"header\", \"true\") \\\n",
    "  .csv(\n",
    "    f\"abfss://covid-project-data@{storage_account}.dfs.core.windows.net/transformed-data/dim_province\"\n",
    "  )\n",
    "\n",
    "# 10.2: Write dim_date to ADLS\n",
    "dim_date.write.mode(\"overwrite\") \\\n",
    "  .option(\"header\", \"true\") \\\n",
    "  .csv(\n",
    "    f\"abfss://covid-project-data@{storage_account}.dfs.core.windows.net/transformed-data/dim_date\"\n",
    "  )\n",
    "\n",
    "# 10.3: Write dim_population to ADLS\n",
    "dim_population.write.mode(\"overwrite\") \\\n",
    "  .option(\"header\", \"true\") \\\n",
    "  .csv(\n",
    "    f\"abfss://covid-project-data@{storage_account}.dfs.core.windows.net/transformed-data/dim_population\"\n",
    "  )\n",
    "\n",
    "# 10.4: Write fact_covid to ADLS\n",
    "fact_covid.write.mode(\"overwrite\") \\\n",
    "  .option(\"header\", \"true\") \\\n",
    "  .csv(\n",
    "    f\"abfss://covid-project-data@{storage_account}.dfs.core.windows.net/transformed-data/fact_covid\"\n",
    "  )\n",
    "\n",
    "# 10.5: Write fact_vaccination to ADLS\n",
    "fact_vaccination.write.mode(\"overwrite\") \\\n",
    "  .option(\"header\", \"true\") \\\n",
    "  .csv(\n",
    "    f\"abfss://covid-project-data@{storage_account}.dfs.core.windows.net/transformed-data/fact_vaccination\"\n",
    "  )\n"
   ]
  }
 ],
 "metadata": {
  "application/vnd.databricks.v1+notebook": {
   "computePreferences": null,
   "dashboards": [],
   "environmentMetadata": {
    "base_environment": "",
    "environment_version": "2"
   },
   "inputWidgetPreferences": null,
   "language": "python",
   "notebookMetadata": {
    "pythonIndentUnit": 4
   },
   "notebookName": "Covid Transformation v2",
   "widgets": {}
  },
  "language_info": {
   "name": "python"
  }
 },
 "nbformat": 4,
 "nbformat_minor": 0
}